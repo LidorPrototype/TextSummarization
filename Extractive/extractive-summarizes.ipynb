{
 "cells": [
  {
   "cell_type": "markdown",
   "metadata": {
    "application/vnd.databricks.v1+cell": {
     "cellMetadata": {},
     "inputWidgets": {},
     "nuid": "725f31c7-ccea-4679-8960-d6fef50e44c0",
     "showTitle": false,
     "title": ""
    }
   },
   "source": [
    "# Paths"
   ]
  },
  {
   "cell_type": "code",
   "execution_count": 0,
   "metadata": {
    "application/vnd.databricks.v1+cell": {
     "cellMetadata": {
      "byteLimit": 2048000,
      "rowLimit": 10000
     },
     "inputWidgets": {},
     "nuid": "d7f7f09c-ab53-472a-854f-42cff06eee48",
     "showTitle": false,
     "title": ""
    }
   },
   "outputs": [],
   "source": [
    "data_path = \"/dbfs/mnt/boidspoc/raw/research_stuff/general_csv/inputs/tennis.csv\"\n",
    "glove_opath = \"/dbfs/mnt/boidspoc/raw/research_stuff/glove.6B.100d.txt\""
   ]
  },
  {
   "cell_type": "code",
   "execution_count": 0,
   "metadata": {
    "application/vnd.databricks.v1+cell": {
     "cellMetadata": {
      "byteLimit": 2048000,
      "rowLimit": 10000
     },
     "inputWidgets": {},
     "nuid": "fc6c70b2-3e6c-4731-a814-1bb2481cb17a",
     "showTitle": false,
     "title": ""
    }
   },
   "outputs": [],
   "source": [
    "summarize_me = \"\"\"The term Data Science was created in the early 1960s to describe a new profession that would support the understanding and interpretation of the large amounts of data which was being amassed at the time. At the time, there was no way of predicting the truly massive amounts of data over the next fifty years. Data Science continues to evolve as a discipline using computer science and statistical methodology to make useful predictions and gain insights in a wide range of fields. While Data Science is used in areas such as astronomy and medicine, it is also used in business to help make smarter decisions.\n",
    "Statistics, and the use of statistical models, are deeply rooted within the field of Data Science. Data Science started with statistics and has evolved to include concepts/practices such as artificial intelligence, machine learning, and the Internet of Things, to name a few. As more and more data has become available, first by way of recorded shopping behaviors and trends, businesses have been collecting and storing it in ever greater amounts. With the growth of the Internet, the Internet of Things, and the exponential growth of data volumes available to enterprises, there has been a flood of new information or big data. Once the doors were opened by businesses seeking to increase profits and drive better decision-making, the use of big data started being applied to other fields, such as medicine, engineering, and social sciences.\n",
    "The term Data Science was created in the early 1960s to describe a new profession that would support the understanding and interpretation of the large amounts of data which was being amassed at the time. At the time, there was no way of predicting the truly massive amounts of data over the next fifty years. Data Science continues to evolve as a discipline using computer science and statistical methodology to make useful predictions and gain insights in a wide range of fields. While Data Science is used in areas such as astronomy and medicine, it is also used in business to help make smarter decisions.\n",
    "Statistics, and the use of statistical models, are deeply rooted within the field of Data Science. Data Science started with statistics and has evolved to include concepts/practices such as artificial intelligence, machine learning, and the Internet of Things, to name a few. As more and more data has become available, first by way of recorded shopping behaviors and trends, businesses have been collecting and storing it in ever greater amounts. With the growth of the Internet, the Internet of Things, and the exponential growth of data volumes available to enterprises, there has been a flood of new information or big data. Once the doors were opened by businesses seeking to increase profits and drive better decision-making, the use of big data started being applied to other fields, such as medicine, engineering, and social sciences.\n",
    "A functional data scientist, as opposed to a general statistician, has a good understanding of software architecture and understands multiple programming languages. The data scientist defines the problem, identifies the key sources of information, and designs the framework for collecting and screening the needed data. Software is typically responsible for collecting, processing, and modeling the data. They use the principles of Data Science, and all the related sub-fields and practices encompassed within Data Science, to gain deeper insight into the data assets under review.\n",
    "There are many different dates and timelines that can be used to trace the slow growth of Data Science and its current impact on the Data Management industry, some of the more significant ones are outlined below.\"\"\""
   ]
  },
  {
   "cell_type": "markdown",
   "metadata": {
    "application/vnd.databricks.v1+cell": {
     "cellMetadata": {},
     "inputWidgets": {},
     "nuid": "d8504749-e921-46b5-b4c7-72f2b17200dd",
     "showTitle": false,
     "title": ""
    }
   },
   "source": [
    "# Article 1 - Check"
   ]
  },
  {
   "cell_type": "markdown",
   "metadata": {
    "application/vnd.databricks.v1+cell": {
     "cellMetadata": {},
     "inputWidgets": {},
     "nuid": "69d65a8f-e482-40a4-a45f-43021d7a9ca4",
     "showTitle": false,
     "title": ""
    }
   },
   "source": [
    "## Extractive summarization"
   ]
  },
  {
   "cell_type": "markdown",
   "metadata": {
    "application/vnd.databricks.v1+cell": {
     "cellMetadata": {},
     "inputWidgets": {},
     "nuid": "f4f2ffc0-5d9c-4efe-98d0-5178c7dbea68",
     "showTitle": false,
     "title": ""
    }
   },
   "source": [
    "### Installs"
   ]
  },
  {
   "cell_type": "code",
   "execution_count": 0,
   "metadata": {
    "application/vnd.databricks.v1+cell": {
     "cellMetadata": {
      "byteLimit": 2048000,
      "rowLimit": 10000
     },
     "inputWidgets": {},
     "nuid": "fa8fef4a-1f8b-40c1-a1ef-d3fbf6f52794",
     "showTitle": false,
     "title": ""
    }
   },
   "outputs": [
    {
     "output_type": "stream",
     "name": "stdout",
     "output_type": "stream",
     "text": [
      "Requirement already satisfied: spacy in /databricks/python3/lib/python3.9/site-packages (3.4.0)\r\nRequirement already satisfied: requests<3.0.0,>=2.13.0 in /databricks/python3/lib/python3.9/site-packages (from spacy) (2.26.0)\r\nRequirement already satisfied: pydantic!=1.8,!=1.8.1,<1.10.0,>=1.7.4 in /databricks/python3/lib/python3.9/site-packages (from spacy) (1.9.2)\r\nRequirement already satisfied: setuptools in /usr/local/lib/python3.9/dist-packages (from spacy) (58.0.4)\r\nRequirement already satisfied: tqdm<5.0.0,>=4.38.0 in /databricks/python3/lib/python3.9/site-packages (from spacy) (4.62.3)\r\nRequirement already satisfied: srsly<3.0.0,>=2.4.3 in /databricks/python3/lib/python3.9/site-packages (from spacy) (2.4.4)\r\nRequirement already satisfied: wasabi<1.1.0,>=0.9.1 in /databricks/python3/lib/python3.9/site-packages (from spacy) (0.10.1)\r\nRequirement already satisfied: preshed<3.1.0,>=3.0.2 in /databricks/python3/lib/python3.9/site-packages (from spacy) (3.0.7)\r\nRequirement already satisfied: spacy-legacy<3.1.0,>=3.0.9 in /databricks/python3/lib/python3.9/site-packages (from spacy) (3.0.10)\r\nRequirement already satisfied: pathy>=0.3.5 in /databricks/python3/lib/python3.9/site-packages (from spacy) (0.6.2)\r\nRequirement already satisfied: murmurhash<1.1.0,>=0.28.0 in /databricks/python3/lib/python3.9/site-packages (from spacy) (1.0.8)\r\nRequirement already satisfied: typer<0.5.0,>=0.3.0 in /databricks/python3/lib/python3.9/site-packages (from spacy) (0.4.2)\r\nRequirement already satisfied: packaging>=20.0 in /databricks/python3/lib/python3.9/site-packages (from spacy) (21.0)\r\nRequirement already satisfied: jinja2 in /databricks/python3/lib/python3.9/site-packages (from spacy) (2.11.3)\r\nRequirement already satisfied: cymem<2.1.0,>=2.0.2 in /databricks/python3/lib/python3.9/site-packages (from spacy) (2.0.6)\r\nRequirement already satisfied: thinc<8.2.0,>=8.1.0 in /databricks/python3/lib/python3.9/site-packages (from spacy) (8.1.0)\r\nRequirement already satisfied: catalogue<2.1.0,>=2.0.6 in /databricks/python3/lib/python3.9/site-packages (from spacy) (2.0.8)\r\nRequirement already satisfied: langcodes<4.0.0,>=3.2.0 in /databricks/python3/lib/python3.9/site-packages (from spacy) (3.3.0)\r\nRequirement already satisfied: numpy>=1.15.0 in /databricks/python3/lib/python3.9/site-packages (from spacy) (1.20.3)\r\nRequirement already satisfied: spacy-loggers<2.0.0,>=1.0.0 in /databricks/python3/lib/python3.9/site-packages (from spacy) (1.0.3)\r\nRequirement already satisfied: pyparsing>=2.0.2 in /databricks/python3/lib/python3.9/site-packages (from packaging>=20.0->spacy) (3.0.4)\r\nRequirement already satisfied: smart-open<6.0.0,>=5.2.1 in /databricks/python3/lib/python3.9/site-packages (from pathy>=0.3.5->spacy) (5.2.1)\r\nRequirement already satisfied: typing-extensions>=3.7.4.3 in /databricks/python3/lib/python3.9/site-packages (from pydantic!=1.8,!=1.8.1,<1.10.0,>=1.7.4->spacy) (3.10.0.2)\r\nRequirement already satisfied: idna<4,>=2.5 in /databricks/python3/lib/python3.9/site-packages (from requests<3.0.0,>=2.13.0->spacy) (3.2)\r\nRequirement already satisfied: charset-normalizer~=2.0.0 in /databricks/python3/lib/python3.9/site-packages (from requests<3.0.0,>=2.13.0->spacy) (2.0.4)\r\nRequirement already satisfied: urllib3<1.27,>=1.21.1 in /databricks/python3/lib/python3.9/site-packages (from requests<3.0.0,>=2.13.0->spacy) (1.26.7)\r\nRequirement already satisfied: certifi>=2017.4.17 in /databricks/python3/lib/python3.9/site-packages (from requests<3.0.0,>=2.13.0->spacy) (2021.10.8)\r\nRequirement already satisfied: blis<0.8.0,>=0.7.8 in /databricks/python3/lib/python3.9/site-packages (from thinc<8.2.0,>=8.1.0->spacy) (0.7.8)\r\nRequirement already satisfied: click<9.0.0,>=7.1.1 in /databricks/python3/lib/python3.9/site-packages (from typer<0.5.0,>=0.3.0->spacy) (8.0.3)\r\nRequirement already satisfied: MarkupSafe>=0.23 in /databricks/python3/lib/python3.9/site-packages (from jinja2->spacy) (2.0.1)\r\n\u001B[33mWARNING: You are using pip version 21.2.4; however, version 23.0.1 is available.\r\nYou should consider upgrading via the '/local_disk0/.ephemeral_nfs/envs/pythonEnv-86018246-b79d-457c-9862-19373a5dd428/bin/python -m pip install --upgrade pip' command.\u001B[0m\r\nCollecting en-core-web-lg==3.4.1\r\n  Downloading https://github.com/explosion/spacy-models/releases/download/en_core_web_lg-3.4.1/en_core_web_lg-3.4.1-py3-none-any.whl (587.7 MB)\r\n\u001B[?25l\r\u001B[K     |                                | 10 kB 18.6 MB/s eta 0:00:32\r\u001B[K     |                                | 20 kB 23.9 MB/s eta 0:00:25\r\u001B[K     |                                | 30 kB 29.5 MB/s eta 0:00:20\r\u001B[K     |                                | 40 kB 20.1 MB/s eta 0:00:30\r\u001B[K     |                                | 51 kB 23.7 MB/s eta 0:00:25\r\u001B[K     |                                | 61 kB 26.9 MB/s eta 0:00:22\r\u001B[K     |                                | 71 kB 24.2 MB/s eta 0:00:25\r\u001B[K     |                                | 81 kB 26.7 MB/s eta 0:00:23\r\u001B[K     |                                | 92 kB 28.9 MB/s eta 0:00:21\r\u001B[K     |                                | 102 kB 29.6 MB/s eta 0:00:20\r\u001B[K     |                                | 112 kB 29.6 MB/s eta 0:00:20\r\u001B[K     |                                | 122 kB 29.6 MB/s eta 0:00:20\r\u001B[K     |                                | 133 kB 29.6 MB/s eta 0:00:20\r\u001B[K     |                                | 143 kB 29.6 MB/s eta 0:00:20\r\u001B[K     |                                | 153 kB 29.6 MB/s eta 0:00:20\r\u001B[K     |                                | 163 kB 29.6 MB/s eta 0:00:20\r\u001B[K     |                                | 174 kB 29.6 MB/s eta 0:00:20\r\u001B[K     |                                | 184 kB 29.6 MB/s eta 0:00:20\r\u001B[K     |                                | 194 kB 29.6 MB/s eta 0:00:20\r\u001B[K     |                                | 204 kB 29.6 MB/s eta 0:00:20\r\u001B[K     |                                | 215 kB 29.6 MB/s eta 0:00:20\r\u001B[K     |                                | 225 kB 29.6 MB/s eta 0:00:20\r\u001B[K     |                                | 235 kB 29.6 MB/s eta 0:00:20\r\u001B[K     |                                | 245 kB 29.6 MB/s eta 0:00:20\r\u001B[K     |                                | 256 kB 29.6 MB/s eta 0:00:20\r\u001B[K     |                                | 266 kB 29.6 MB/s eta 0:00:20\r\u001B[K     |                                | 276 kB 29.6 MB/s eta 0:00:20\r\u001B[K     |                                | 286 kB 29.6 MB/s eta 0:00:20\r\u001B[K     |                                | 296 kB 29.6 MB/s eta 0:00:20\r\u001B[K     |                                | 307 kB 29.6 MB/s eta 0:00:20\r\u001B[K     |                                | 317 kB 29.6 MB/s eta 0:00:20\r\u001B[K     |                                | 327 kB 29.6 MB/s eta 0:00:20\r\u001B[K     |                                | 337 kB 29.6 MB/s eta 0:00:20\r\u001B[K     |                                | 348 kB 29.6 MB/s eta 0:00:20\r\u001B[K     |                                | 358 kB 29.6 MB/s eta 0:00:20\r\u001B[K     |                                | 368 kB 29.6 MB/s eta 0:00:20\r\u001B[K     |                                | 378 kB 29.6 MB/s eta 0:00:20\r\u001B[K     |                                | 389 kB 29.6 MB/s eta 0:00:20\r\u001B[K     |                                | 399 kB 29.6 MB/s eta 0:00:20\r\u001B[K     |                                | 409 kB 29.6 MB/s eta 0:00:20\r\u001B[K     |                                | 419 kB 29.6 MB/s eta 0:00:20\r\u001B[K     |                                | 430 kB 29.6 MB/s eta 0:00:20\r\u001B[K     |                                | 440 kB 29.6 MB/s eta 0:00:20\r\u001B[K     |                                | 450 kB 29.6 MB/s eta 0:00:20\r\u001B[K     |                                | 460 kB 29.6 MB/s eta 0:00:20\r\u001B[K     |                                | 471 kB 29.6 MB/s eta 0:00:20\r\u001B[K     |                                | 481 kB 29.6 MB/s eta 0:00:20\r\u001B[K     |                                | 491 kB 29.6 MB/s eta 0:00:20\r\u001B[K     |                                | 501 kB 29.6 MB/s eta 0:00:20\r\u001B[K     |                                | 512 kB 29.6 MB/s eta 0:00:20\r\u001B[K     |                                | 522 kB 29.6 MB/s eta 0:00:20\r\u001B[K     |                                | 532 kB 29.6 MB/s eta 0:00:20\r\u001B[K     |                                | 542 kB 29.6 MB/s eta 0:00:20\r\u001B[K     |                                | 552 kB 29.6 MB/s eta 0:00:20\r\u001B[K     |                                | 563 kB 29.6 MB/s eta 0:00:20\r\u001B[K     |                                | 573 kB 29.6 MB/s eta 0:00:20\r\u001B[K     |                                | 583 kB 29.6 MB/s eta 0:00:20\r\u001B[K     |                                | 593 kB 29.6 MB/s eta 0:00:20\r\u001B[K     |                                | 604 kB 29.6 MB/s eta 0:00:20\r\u001B[K     |                                | 614 kB 29.6 MB/s eta 0:00:20\r\u001B[K     |                                | 624 kB 29.6 MB/s eta 0:00:20\r\u001B[K     |                                | 634 kB 29.6 MB/s eta 0:00:20\r\u001B[K     |                                | 645 kB 29.6 MB/s eta 0:00:20\r\u001B[K     |                                | 655 kB 29.6 MB/s eta 0:00:20\r\u001B[K     |                                | 665 kB 29.6 MB/s eta 0:00:20\r\u001B[K     |                                | 675 kB 29.6 MB/s eta 0:00:20\r\u001B[K     |                                | 686 kB 29.6 MB/s eta 0:00:20\r\u001B[K     |                                | 696 kB 29.6 MB/s eta 0:00:20\r\u001B[K     |                                | 706 kB 29.6 MB/s eta 0:00:20\r\u001B[K     |                                | 716 kB 29.6 MB/s eta 0:00:20\r\u001B[K     |                                | 727 kB 29.6 MB/s eta 0:00:20\r\u001B[K     |                                | 737 kB 29.6 MB/s eta 0:00:20\r\u001B[K     |                                | 747 kB 29.6 MB/s eta 0:00:20\r\u001B[K     |                                | 757 kB 29.6 MB/s eta 0:00:20\r\u001B[K     |                                | 768 kB 29.6 MB/s eta 0:00:20\r\u001B[K     |                                | 778 kB 29.6 MB/s eta 0:00:20\r\u001B[K     |                                | 788 kB 29.6 MB/s eta 0:00:20\r\u001B[K     |                                | 798 kB 29.6 MB/s eta 0:00:20\r\u001B[K     |                                | 808 kB 29.6 MB/s eta 0:00:20\r\u001B[K     |                                | 819 kB 29.6 MB/s eta 0:00:20\r\u001B[K     |                                | 829 kB 29.6 MB/s eta 0:00:20\r\u001B[K     |                                | 839 kB 29.6 MB/s eta 0:00:20\r\u001B[K     |                                | 849 kB 29.6 MB/s eta 0:00:20\r\u001B[K     |                                | 860 kB 29.6 MB/s eta 0:00:20\r\u001B[K     |                                | 870 kB 29.6 MB/s eta 0:00:20\r\u001B[K     |                                | 880 kB 29.6 MB/s eta 0:00:20\r\u001B[K     |                                | 890 kB 29.6 MB/s eta 0:00:20\r\u001B[K     |                                | 901 kB 29.6 MB/s eta 0:00:20\r\u001B[K     |                                | 911 kB 29.6 MB/s eta 0:00:20\r\u001B[K     |                                | 921 kB 29.6 MB/s eta 0:00:20\r\u001B[K     |                                | 931 kB 29.6 MB/s eta 0:00:20\r\u001B[K     |                                | 942 kB 29.6 MB/s eta 0:00:20\r\u001B[K     |                                | 952 kB 29.6 MB/s eta 0:00:20\r\u001B[K     |                                | 962 kB 29.6 MB/s eta 0:00:20\r\u001B[K     |                                | 972 kB 29.6 MB/s eta 0:00:20\r\u001B[K     |                                | 983 kB 29.6 MB/s eta 0:00:20\r\u001B[K     |                                | 993 kB 29.6 MB/s eta 0:00:20\r\u001B[K     |                                | 1.0 MB 29.6 MB/s eta 0:00:20\r\u001B[K     |                                | 1.0 MB 29.6 MB/s eta 0:00:20\r\u001B[K     |                                | 1.0 MB 29.6 MB/s eta 0:00:20\r\u001B[K     |                                | 1.0 MB 29.6 MB/s eta 0:00:20\r\u001B[K     |                                | 1.0 MB 29.6 MB/s eta 0:00:20\r\u001B[K     |                                | 1.1 MB 29.6 MB/s eta 0:00:20\r\u001B[K     |                                | 1.1 MB 29.6 MB/s eta 0:00:20\r\u001B[K     |                                | 1.1 MB 29.6 MB/s eta 0:00:20\r\u001B[K     |                                | 1.1 MB 29.6 MB/s eta 0:00:20\r\u001B[K     |                                | 1.1 MB 29.6 MB/s eta 0:00:20\r\u001B[K     |                                | 1.1 MB 29.6 MB/s eta 0:00:20\r\u001B[K     |                                | 1.1 MB 29.6 MB/s eta 0:00:20\r\u001B[K     |                                | 1.1 MB 29.6 MB/s eta 0:00:20\r\u001B[K     |                                | 1.1 MB 29.6 MB/s eta 0:00:20\r\u001B[K     |                                | 1.1 MB 29.6 MB/s eta 0:00:20\r\u001B[K     |                                | 1.2 MB 29.6 MB/s eta 0:00:20\r\u001B[K     |                                | 1.2 MB 29.6 MB/s eta 0:00:20\r\u001B[K     |                                | 1.2 MB 29.6 MB/s eta 0:00:20\r\u001B[K     |                                | 1.2 MB 29.6 MB/s eta 0:00:20\r\u001B[K     |                                | 1.2 MB 29.6 MB/s eta 0:00:20\r\u001B[K     |                                | 1.2 MB 29.6 MB/s eta 0:00:20\r\u001B[K     |                                | 1.2 MB 29.6 MB/s eta 0:00:20\r\u001B[K     |                                | 1.2 MB 29.6 MB/s eta 0:00:20\r\u001B[K     |                                | 1.2 MB 29.6 MB/s eta 0:00:20\r\u001B[K     |                                | 1.2 MB 29.6 MB/s eta 0:00:20\r\u001B[K     |                                | 1.3 MB 29.6 MB/s eta 0:00:20\r\u001B[K     |                                | 1.3 MB 29.6 MB/s eta 0:00:20\r\u001B[K     |                                | 1.3 MB 29.6 MB/s eta 0:00:20\r\u001B[K     |                                | 1.3 MB 29.6 MB/s eta 0:00:20\r\u001B[K     |                                | 1.3 MB 29.6 MB/s eta 0:00:20\r\u001B[K     |                                | 1.3 MB 29.6 MB/s eta 0:00:20\r\u001B[K     |                                | 1.3 MB 29.6 MB/s eta 0:00:20\r\u001B[K     |                                | 1.3 MB 29.6 MB/s eta 0:00:20\r\u001B[K     |                                | 1.3 MB 29.6 MB/s eta 0:00:20\r\u001B[K     |                                | 1.4 MB 29.6 MB/s eta 0:00:20\r\u001B[K     |                                | 1.4 MB 29.6 MB/s eta 0:00:20\r\u001B[K     |                                | 1.4 MB 29.6 MB/s eta 0:00:20\r\u001B[K     |                                | 1.4 MB 29.6 MB/s eta 0:00:20\r\u001B[K     |                                | 1.4 MB 29.6 MB/s eta 0:00:20\r\u001B[K     |                                | 1.4 MB 29.6 MB/s eta 0:00:20\r\u001B[K     |                                | 1.4 MB 29.6 MB/s eta 0:00:20\r\u001B[K     |                                | 1.4 MB 29.6 MB/s eta 0:00:20\r\u001B[K     |                                | 1.4 MB 29.6 MB/s eta 0:00:20\r\u001B[K     |                                | 1.4 MB 29.6 MB/s eta 0:00:20\r\u001B[K     |                                | 1.5 MB 29.6 MB/s eta 0:00:20\r\u001B[K     |                                | 1.5 MB 29.6 MB/s eta 0:00:20\r\u001B[K     |                                | 1.5 MB 29.6 MB/s eta 0:00:20\r\u001B[K     |                                | 1.5 MB 29.6 MB/s eta 0:00:20\r\u001B[K     |                                | 1.5 MB 29.6 MB/s eta 0:00:20\r\u001B[K     |                                | 1.5 MB 29.6 MB/s eta 0:00:20\r\u001B[K     |                                | 1.5 MB 29.6 MB/s eta 0:00:20\r\u001B[K     |                                | 1.5 MB 29.6 MB/s eta 0:00:20\r\u001B[K     |                                | 1.5 MB 29.6 MB/s eta 0:00:20\r\u001B[K     |                                | 1.5 MB 29.6 MB/s eta 0:00:20\r\u001B[K     |                                | 1.6 MB 29.6 MB/s eta 0:00:20\r\u001B[K     |                                | 1.6 MB 29.6 MB/s eta 0:00:20\r\u001B[K     |                                | 1.6 MB 29.6 MB/s eta 0:00:20\r\u001B[K     |                                | 1.6 MB 29.6 MB/s eta 0:00:20\r\u001B[K     |                                | 1.6 MB 29.6 MB/s eta 0:00:20\r\u001B[K     |                                | 1.6 MB 29.6 MB/s eta 0:00:20\r\u001B[K     |                                | 1.6 MB 29.6 MB/s eta 0:00:20\r\u001B[K     |                                | 1.6 MB 29.6 MB/s eta 0:00:20\r\u001B[K     |                                | 1.6 MB 29.6 MB/s eta 0:00:20\r\u001B[K     |                                | 1.6 MB 29.6 MB/s eta 0:00:20\r\u001B[K     |                                | 1.7 MB 29.6 MB/s eta 0:00:20\r\u001B[K     |                                | 1.7 MB 29.6 MB/s eta 0:00:20\r\u001B[K     |                                | 1.7 MB 29.6 MB/s eta 0:00:20\r\u001B[K     |                                | 1.7 MB 29.6 MB/s eta 0:00:20\r\u001B[K     |                                | 1.7 MB 29.6 MB/s eta 0:00:20\r\u001B[K     |                                | 1.7 MB 29.6 MB/s eta 0:00:20\r\u001B[K     |                                | 1.7 MB 29.6 MB/s eta 0:00:20\r\u001B[K     |                                | 1.7 MB 29.6 MB/s eta 0:00:20\r\u001B[K     |                                | 1.7 MB 29.6 MB/s eta 0:00:20\r\u001B[K     |                                | 1.8 MB 29.6 MB/s eta 0:00:20\r\u001B[K     |                                | 1.8 MB 29.6 MB/s eta 0:00:20\r\u001B[K     |                                | 1.8 MB 29.6 MB/s eta 0:00:20\r\u001B[K     |                                | 1.8 MB 29.6 MB/s eta 0:00:20\r\u001B[K     |                                | 1.8 MB 29.6 MB/s eta 0:00:20\r\u001B[K     |                                | 1.8 MB 29.6 MB/s eta 0:00:20\r\u001B[K     |                                | 1.8 MB 29.6 MB/s eta 0:00:20\r\u001B[K     |                                | 1.8 MB 29.6 MB/s eta 0:00:20\r\u001B[K     |                                | 1.8 MB 29.6 MB/s eta 0:00:20\r\u001B[K     |                                | 1.8 MB 29.6 MB/s eta 0:00:20\r\u001B[K     |                                | 1.9 MB 29.6 MB/s eta 0:00:20\r\u001B[K     |                                | 1.9 MB 29.6 MB/s eta 0:00:20\r\u001B[K     |                                | 1.9 MB 29.6 MB/s eta 0:00:20\r\u001B[K     |                                | 1.9 MB 29.6 MB/s eta 0:00:20\r\u001B[K     |                                | 1.9 MB 29.6 MB/s eta 0:00:20\r\u001B[K     |                                | 1.9 MB 29.6 MB/s eta 0:00:20\r\u001B[K     |                                | 1.9 MB 29.6 MB/s eta 0:00:20\r\u001B[K     |                                | 1.9 MB 29.6 MB/s eta 0:00:20\r\u001B[K     |                                | 1.9 MB 29.6 MB/s eta 0:00:20\r\u001B[K     |                                | 1.9 MB 29.6 MB/s eta 0:00:20\r\u001B[K     |                                | 2.0 MB 29.6 MB/s eta 0:00:20\r\u001B[K     |                                | 2.0 MB 29.6 MB/s eta 0:00:20\r\u001B[K     |                                | 2.0 MB 29.6 MB/s eta 0:00:20\r\u001B[K     |                                | 2.0 MB 29.6 MB/s eta 0:00:20\r\u001B[K     |                                | 2.0 MB 29.6 MB/s eta 0:00:20\r\u001B[K     |                                | 2.0 MB 29.6 MB/s eta 0:00:20\r\u001B[K     |                                | 2.0 MB 29.6 MB/s eta 0:00:20\r\u001B[K     |                                | 2.0 MB 29.6 MB/s eta 0:00:20\r\u001B[K     |                                | 2.0 MB 29.6 MB/s eta 0:00:20\r\u001B[K     |▏                               | 2.0 MB 29.6 MB/s eta 0:00:20\r\u001B[K     |▏                               | 2.1 MB 29.6 MB/s eta 0:00:20\r\u001B[K     |▏                               | 2.1 MB 29.6 MB/s eta 0:00:20\r\u001B[K     |▏                               | 2.1 MB 29.6 MB/s eta 0:00:20\r\u001B[K     |▏                               | 2.1 MB 29.6 MB/s eta 0:00:20\r\u001B[K     |▏                               | 2.1 MB 29.6 MB/s eta 0:00:20\r\u001B[K     |▏                               | 2.1 MB 29.6 MB/s eta 0:00:20\r\u001B[K     |▏                               | 2.1 MB 29.6 MB/s eta 0:00:20\r\u001B[K     |▏                               | 2.1 MB 29.6 MB/s eta 0:00:20\r\u001B[K     |▏                               | 2.1 MB 29.6 MB/s eta 0:00:20\r\u001B[K     |▏                               | 2.2 MB 29.6 MB/s eta 0:00:20\r\u001B[K     |▏                               | 2.2 MB 29.6 MB/s eta 0:00:20\r\u001B[K     |▏                               | 2.2 MB 29.6 MB/s eta 0:00:20\r\u001B[K     |▏                               | 2.2 MB 29.6 MB/s eta 0:00:20\r\u001B[K     |▏                               | 2.2 MB 29.6 MB/s eta 0:00:20\r\u001B[K     |▏                               | 2.2 MB 29.6 MB/s eta 0:00:20\r\u001B[K     |▏                               | 2.2 MB 29.6 MB/s eta 0:00:20\r\u001B[K     |▏                               | 2.2 MB 29.6 MB/s eta 0:00:20\r\u001B[K     |▏                               | 2.2 MB 29.6 MB/s eta 0:00:20\r\u001B[K     |▏                               | 2.2 MB 29.6 MB/s eta 0:00:20\r\u001B[K     |▏                               | 2.3 MB 29.6 MB/s eta 0:00:20\r\u001B[K     |▏                               | 2.3 MB 29.6 MB/s eta 0:00:20\r\u001B[K     |▏                               | 2.3 MB 29.6 MB/s eta 0:00:20\r\u001B[K     |▏                               | 2.3 MB 29.6 MB/s eta 0:00:20\r\u001B[K     |▏                               | 2.3 MB 29.6 MB/s eta 0:00:20\r\u001B[K     |▏                               | 2.3 MB 29.6 MB/s eta 0:00:20\r\u001B[K     |▏                               | 2.3 MB 29.6 MB/s eta 0:00:20\r\u001B[K     |▏                               | 2.3 MB 29.6 MB/s eta 0:00:20\r\u001B[K     |▏                               | 2.3 MB 29.6 MB/s eta 0:00:20\r\u001B[K     |▏                               | 2.3 MB 29.6 MB/s eta 0:00:20\r\u001B[K     |▏                               | 2.4 MB 29.6 MB/s eta 0:00:20\r\u001B[K     |▏                               | 2.4 MB 29.6 MB/s eta 0:00:20\r\u001B[K     |▏                               | 2.4 MB 29.6 MB/s eta 0:00:20\r\u001B[K     |▏                               | 2.4 MB 29.6 MB/s eta 0:00:20\r\u001B[K     |▏                               | 2.4 MB 29.6 MB/s eta 0:00:20\r\u001B[K     |▏                               | 2.4 MB 29.6 MB/s eta 0:00:20\r\u001B[K     |▏                               | 2.4 MB 29.6 MB/s eta 0:00:20\r\u001B[K     |▏                               | 2.4 MB 29.6 MB/s eta 0:00:20\r\u001B[K     |▏                               | 2.4 MB 29.6 MB/s eta 0:00:20\r\u001B[K     |▏                               | 2.4 MB 29.6 MB/s eta 0:00:20\r\u001B[K     |▏                               | 2.5 MB 29.6 MB/s eta 0:00:20\r\u001B[K     |▏                               | 2.5 MB 29.6 MB/s eta 0:00:20\r\u001B[K     |▏                               | 2.5 MB 29.6 MB/s eta 0:00:20\r\u001B[K     |▏                               | 2.5 MB 29.6 MB/s eta 0:00:20\r\u001B[K     |▏                               | 2.5 MB 29.6 MB/s eta 0:00:20\r\u001B[K     |▏                               | 2.5 MB 29.6 MB/s eta 0:00:20\r\u001B[K     |▏                               | 2.5 MB 29.6 MB/s eta 0:00:20\r\u001B[K     |▏                               | 2.5 MB 29.6 MB/s eta 0:00:20\r\u001B[K     |▏                               | 2.5 MB 29.6 MB/s eta 0:00:20\r\u001B[K     |▏                               | 2.5 MB 29.6 MB/s eta 0:00:20\r\u001B[K     |▏                               | 2.6 MB 29.6 MB/s eta 0:00:20\r\u001B[K     |▏                               | 2.6 MB 29.6 MB/s eta 0:00:20\r\u001B[K     |▏                               | 2.6 MB 29.6 MB/s eta 0:00:20\r\u001B[K     |▏                               | 2.6 MB 29.6 MB/s eta 0:00:20\r\u001B[K     |▏                               | 2.6 MB 29.6 MB/s eta 0:00:20\r\u001B[K     |▏                               | 2.6 MB 29.6 MB/s eta 0:00:20\r\u001B[K     |▏                               | 2.6 MB 29.6 MB/s eta 0:00:20\r\u001B[K     |▏                               | 2.6 MB 29.6 MB/s eta 0:00:20\r\u001B[K     |▏                               | 2.6 MB 29.6 MB/s eta 0:00:20\r\u001B[K     |▏                               | 2.7 MB 29.6 MB/s eta 0:00:20\r\u001B[K     |▏                               | 2.7 MB 29.6 MB/s eta 0:00:20\r\u001B[K     |▏                               | 2.7 MB 29.6 MB/s eta 0:00:20\r\u001B[K     |▏                               | 2.7 MB 29.6 MB/s eta 0:00:20\r\u001B[K     |▏                               | 2.7 MB 29.6 MB/s eta 0:00:20\r\u001B[K     |▏                               | 2.7 MB 29.6 MB/s eta 0:00:20\r\u001B[K     |▏                               | 2.7 MB 29.6 MB/s eta 0:00:20\r\u001B[K     |▏                               | 2.7 MB 29.6 MB/s eta 0:00:20\r\u001B[K     |▏                               | 2.7 MB 29.6 MB/s eta 0:00:20\r\u001B[K     |▏                               | 2.7 MB 29.6 MB/s eta 0:00:20\r\u001B[K     |▏                               | 2.8 MB 29.6 MB/s eta 0:00:20\r\u001B[K     |▏                               | 2.8 MB 29.6 MB/s eta 0:00:20\r\u001B[K     |▏                               | 2.8 MB 29.6 MB/s eta 0:00:20\r\u001B[K     |▏                               | 2.8 MB 29.6 MB/s eta 0:00:20\r\u001B[K     |▏                               | 2.8 MB 29.6 MB/s eta 0:00:20\r\u001B[K     |▏                               | 2.8 MB 29.6 MB/s eta 0:00:20\r\u001B[K     |▏                               | 2.8 MB 29.6 MB/s eta 0:00:20\r\u001B[K     |▏                               | 2.8 MB 29.6 MB/s eta 0:00:20\r\u001B[K     |▏                               | 2.8 MB 29.6 MB/s eta 0:00:20\r\u001B[K     |▏                               | 2.8 MB 29.6 MB/s eta 0:00:20\r\u001B[K     |▏                               | 2.9 MB 29.6 MB/s eta 0:00:20\r\u001B[K     |▏                               | 2.9 MB 29.6 MB/s eta 0:00:20\r\u001B[K     |▏                               | 2.9 MB 29.6 MB/s eta 0:00:20\r\u001B[K     |▏                               | 2.9 MB 29.6 MB/s eta 0:00:20\r\u001B[K     |▏                               | 2.9 MB 29.6 MB/s eta 0:00:20\r\u001B[K     |▏                               | 2.9 MB 29.6 MB/s eta 0:00:20\r\u001B[K     |▏                               | 2.9 MB 29.6 MB/s eta 0:00:20\r\u001B[K     |▏                               | 2.9 MB 29.6 MB/s eta 0:00:20\r\u001B[K     |▏                        \n\n*** WARNING: max output size exceeded, skipping output. ***\n\n86.0 MB 91.1 MB/s eta 0:00:01\r\u001B[K     |████████████████████████████████| 586.0 MB 91.1 MB/s eta 0:00:01\r\u001B[K     |████████████████████████████████| 586.1 MB 91.1 MB/s eta 0:00:01\r\u001B[K     |████████████████████████████████| 586.1 MB 91.1 MB/s eta 0:00:01\r\u001B[K     |████████████████████████████████| 586.1 MB 91.1 MB/s eta 0:00:01\r\u001B[K     |████████████████████████████████| 586.1 MB 91.1 MB/s eta 0:00:01\r\u001B[K     |████████████████████████████████| 586.1 MB 91.1 MB/s eta 0:00:01\r\u001B[K     |████████████████████████████████| 586.1 MB 91.1 MB/s eta 0:00:01\r\u001B[K     |████████████████████████████████| 586.1 MB 91.1 MB/s eta 0:00:01\r\u001B[K     |████████████████████████████████| 586.1 MB 91.1 MB/s eta 0:00:01\r\u001B[K     |████████████████████████████████| 586.1 MB 91.1 MB/s eta 0:00:01\r\u001B[K     |████████████████████████████████| 586.1 MB 91.1 MB/s eta 0:00:01\r\u001B[K     |████████████████████████████████| 586.2 MB 91.1 MB/s eta 0:00:01\r\u001B[K     |████████████████████████████████| 586.2 MB 91.1 MB/s eta 0:00:01\r\u001B[K     |████████████████████████████████| 586.2 MB 91.1 MB/s eta 0:00:01\r\u001B[K     |████████████████████████████████| 586.2 MB 91.1 MB/s eta 0:00:01\r\u001B[K     |████████████████████████████████| 586.2 MB 91.1 MB/s eta 0:00:01\r\u001B[K     |████████████████████████████████| 586.2 MB 91.1 MB/s eta 0:00:01\r\u001B[K     |████████████████████████████████| 586.2 MB 91.1 MB/s eta 0:00:01\r\u001B[K     |████████████████████████████████| 586.2 MB 91.1 MB/s eta 0:00:01\r\u001B[K     |████████████████████████████████| 586.2 MB 91.1 MB/s eta 0:00:01\r\u001B[K     |████████████████████████████████| 586.3 MB 91.1 MB/s eta 0:00:01\r\u001B[K     |████████████████████████████████| 586.3 MB 91.1 MB/s eta 0:00:01\r\u001B[K     |████████████████████████████████| 586.3 MB 91.1 MB/s eta 0:00:01\r\u001B[K     |████████████████████████████████| 586.3 MB 91.1 MB/s eta 0:00:01\r\u001B[K     |████████████████████████████████| 586.3 MB 91.1 MB/s eta 0:00:01\r\u001B[K     |████████████████████████████████| 586.3 MB 91.1 MB/s eta 0:00:01\r\u001B[K     |████████████████████████████████| 586.3 MB 91.1 MB/s eta 0:00:01\r\u001B[K     |████████████████████████████████| 586.3 MB 91.1 MB/s eta 0:00:01\r\u001B[K     |████████████████████████████████| 586.3 MB 91.1 MB/s eta 0:00:01\r\u001B[K     |████████████████████████████████| 586.3 MB 91.1 MB/s eta 0:00:01\r\u001B[K     |████████████████████████████████| 586.4 MB 91.1 MB/s eta 0:00:01\r\u001B[K     |████████████████████████████████| 586.4 MB 91.1 MB/s eta 0:00:01\r\u001B[K     |████████████████████████████████| 586.4 MB 91.1 MB/s eta 0:00:01\r\u001B[K     |████████████████████████████████| 586.4 MB 91.1 MB/s eta 0:00:01\r\u001B[K     |████████████████████████████████| 586.4 MB 91.1 MB/s eta 0:00:01\r\u001B[K     |████████████████████████████████| 586.4 MB 91.1 MB/s eta 0:00:01\r\u001B[K     |████████████████████████████████| 586.4 MB 91.1 MB/s eta 0:00:01\r\u001B[K     |████████████████████████████████| 586.4 MB 91.1 MB/s eta 0:00:01\r\u001B[K     |████████████████████████████████| 586.4 MB 91.1 MB/s eta 0:00:01\r\u001B[K     |████████████████████████████████| 586.4 MB 91.1 MB/s eta 0:00:01\r\u001B[K     |████████████████████████████████| 586.5 MB 91.1 MB/s eta 0:00:01\r\u001B[K     |████████████████████████████████| 586.5 MB 91.1 MB/s eta 0:00:01\r\u001B[K     |████████████████████████████████| 586.5 MB 91.1 MB/s eta 0:00:01\r\u001B[K     |████████████████████████████████| 586.5 MB 91.1 MB/s eta 0:00:01\r\u001B[K     |████████████████████████████████| 586.5 MB 91.1 MB/s eta 0:00:01\r\u001B[K     |████████████████████████████████| 586.5 MB 91.1 MB/s eta 0:00:01\r\u001B[K     |████████████████████████████████| 586.5 MB 91.1 MB/s eta 0:00:01\r\u001B[K     |████████████████████████████████| 586.5 MB 91.1 MB/s eta 0:00:01\r\u001B[K     |████████████████████████████████| 586.5 MB 91.1 MB/s eta 0:00:01\r\u001B[K     |████████████████████████████████| 586.5 MB 91.1 MB/s eta 0:00:01\r\u001B[K     |████████████████████████████████| 586.6 MB 91.1 MB/s eta 0:00:01\r\u001B[K     |████████████████████████████████| 586.6 MB 91.1 MB/s eta 0:00:01\r\u001B[K     |████████████████████████████████| 586.6 MB 91.1 MB/s eta 0:00:01\r\u001B[K     |████████████████████████████████| 586.6 MB 91.1 MB/s eta 0:00:01\r\u001B[K     |████████████████████████████████| 586.6 MB 91.1 MB/s eta 0:00:01\r\u001B[K     |████████████████████████████████| 586.6 MB 91.1 MB/s eta 0:00:01\r\u001B[K     |████████████████████████████████| 586.6 MB 91.1 MB/s eta 0:00:01\r\u001B[K     |████████████████████████████████| 586.6 MB 91.1 MB/s eta 0:00:01\r\u001B[K     |████████████████████████████████| 586.6 MB 91.1 MB/s eta 0:00:01\r\u001B[K     |████████████████████████████████| 586.6 MB 91.1 MB/s eta 0:00:01\r\u001B[K     |████████████████████████████████| 586.7 MB 91.1 MB/s eta 0:00:01\r\u001B[K     |████████████████████████████████| 586.7 MB 91.1 MB/s eta 0:00:01\r\u001B[K     |████████████████████████████████| 586.7 MB 91.1 MB/s eta 0:00:01\r\u001B[K     |████████████████████████████████| 586.7 MB 91.1 MB/s eta 0:00:01\r\u001B[K     |████████████████████████████████| 586.7 MB 91.1 MB/s eta 0:00:01\r\u001B[K     |████████████████████████████████| 586.7 MB 91.1 MB/s eta 0:00:01\r\u001B[K     |████████████████████████████████| 586.7 MB 91.1 MB/s eta 0:00:01\r\u001B[K     |████████████████████████████████| 586.7 MB 91.1 MB/s eta 0:00:01\r\u001B[K     |████████████████████████████████| 586.7 MB 91.1 MB/s eta 0:00:01\r\u001B[K     |████████████████████████████████| 586.8 MB 91.1 MB/s eta 0:00:01\r\u001B[K     |████████████████████████████████| 586.8 MB 91.1 MB/s eta 0:00:01\r\u001B[K     |████████████████████████████████| 586.8 MB 91.1 MB/s eta 0:00:01\r\u001B[K     |████████████████████████████████| 586.8 MB 91.1 MB/s eta 0:00:01\r\u001B[K     |████████████████████████████████| 586.8 MB 91.1 MB/s eta 0:00:01\r\u001B[K     |████████████████████████████████| 586.8 MB 91.1 MB/s eta 0:00:01\r\u001B[K     |████████████████████████████████| 586.8 MB 91.1 MB/s eta 0:00:01\r\u001B[K     |████████████████████████████████| 586.8 MB 91.1 MB/s eta 0:00:01\r\u001B[K     |████████████████████████████████| 586.8 MB 91.1 MB/s eta 0:00:01\r\u001B[K     |████████████████████████████████| 586.8 MB 91.1 MB/s eta 0:00:01\r\u001B[K     |████████████████████████████████| 586.9 MB 91.1 MB/s eta 0:00:01\r\u001B[K     |████████████████████████████████| 586.9 MB 91.1 MB/s eta 0:00:01\r\u001B[K     |████████████████████████████████| 586.9 MB 91.1 MB/s eta 0:00:01\r\u001B[K     |████████████████████████████████| 586.9 MB 91.1 MB/s eta 0:00:01\r\u001B[K     |████████████████████████████████| 586.9 MB 91.1 MB/s eta 0:00:01\r\u001B[K     |████████████████████████████████| 586.9 MB 91.1 MB/s eta 0:00:01\r\u001B[K     |████████████████████████████████| 586.9 MB 91.1 MB/s eta 0:00:01\r\u001B[K     |████████████████████████████████| 586.9 MB 91.1 MB/s eta 0:00:01\r\u001B[K     |████████████████████████████████| 586.9 MB 91.1 MB/s eta 0:00:01\r\u001B[K     |████████████████████████████████| 586.9 MB 91.1 MB/s eta 0:00:01\r\u001B[K     |████████████████████████████████| 587.0 MB 91.1 MB/s eta 0:00:01\r\u001B[K     |████████████████████████████████| 587.0 MB 91.1 MB/s eta 0:00:01\r\u001B[K     |████████████████████████████████| 587.0 MB 91.1 MB/s eta 0:00:01\r\u001B[K     |████████████████████████████████| 587.0 MB 91.1 MB/s eta 0:00:01\r\u001B[K     |████████████████████████████████| 587.0 MB 91.1 MB/s eta 0:00:01\r\u001B[K     |████████████████████████████████| 587.0 MB 91.1 MB/s eta 0:00:01\r\u001B[K     |████████████████████████████████| 587.0 MB 91.1 MB/s eta 0:00:01\r\u001B[K     |████████████████████████████████| 587.0 MB 91.1 MB/s eta 0:00:01\r\u001B[K     |████████████████████████████████| 587.0 MB 91.1 MB/s eta 0:00:01\r\u001B[K     |████████████████████████████████| 587.0 MB 91.1 MB/s eta 0:00:01\r\u001B[K     |████████████████████████████████| 587.1 MB 91.1 MB/s eta 0:00:01\r\u001B[K     |████████████████████████████████| 587.1 MB 91.1 MB/s eta 0:00:01\r\u001B[K     |████████████████████████████████| 587.1 MB 91.1 MB/s eta 0:00:01\r\u001B[K     |████████████████████████████████| 587.1 MB 91.1 MB/s eta 0:00:01\r\u001B[K     |████████████████████████████████| 587.1 MB 91.1 MB/s eta 0:00:01\r\u001B[K     |████████████████████████████████| 587.1 MB 91.1 MB/s eta 0:00:01\r\u001B[K     |████████████████████████████████| 587.1 MB 91.1 MB/s eta 0:00:01\r\u001B[K     |████████████████████████████████| 587.1 MB 91.1 MB/s eta 0:00:01\r\u001B[K     |████████████████████████████████| 587.1 MB 91.1 MB/s eta 0:00:01\r\u001B[K     |████████████████████████████████| 587.2 MB 91.1 MB/s eta 0:00:01\r\u001B[K     |████████████████████████████████| 587.2 MB 91.1 MB/s eta 0:00:01\r\u001B[K     |████████████████████████████████| 587.2 MB 91.1 MB/s eta 0:00:01\r\u001B[K     |████████████████████████████████| 587.2 MB 91.1 MB/s eta 0:00:01\r\u001B[K     |████████████████████████████████| 587.2 MB 91.1 MB/s eta 0:00:01\r\u001B[K     |████████████████████████████████| 587.2 MB 91.1 MB/s eta 0:00:01\r\u001B[K     |████████████████████████████████| 587.2 MB 91.1 MB/s eta 0:00:01\r\u001B[K     |████████████████████████████████| 587.2 MB 91.1 MB/s eta 0:00:01\r\u001B[K     |████████████████████████████████| 587.2 MB 91.1 MB/s eta 0:00:01\r\u001B[K     |████████████████████████████████| 587.2 MB 91.1 MB/s eta 0:00:01\r\u001B[K     |████████████████████████████████| 587.3 MB 91.1 MB/s eta 0:00:01\r\u001B[K     |████████████████████████████████| 587.3 MB 91.1 MB/s eta 0:00:01\r\u001B[K     |████████████████████████████████| 587.3 MB 91.1 MB/s eta 0:00:01\r\u001B[K     |████████████████████████████████| 587.3 MB 91.1 MB/s eta 0:00:01\r\u001B[K     |████████████████████████████████| 587.3 MB 91.1 MB/s eta 0:00:01\r\u001B[K     |████████████████████████████████| 587.3 MB 91.1 MB/s eta 0:00:01\r\u001B[K     |████████████████████████████████| 587.3 MB 91.1 MB/s eta 0:00:01\r\u001B[K     |████████████████████████████████| 587.3 MB 91.1 MB/s eta 0:00:01\r\u001B[K     |████████████████████████████████| 587.3 MB 91.1 MB/s eta 0:00:01\r\u001B[K     |████████████████████████████████| 587.3 MB 91.1 MB/s eta 0:00:01\r\u001B[K     |████████████████████████████████| 587.4 MB 91.1 MB/s eta 0:00:01\r\u001B[K     |████████████████████████████████| 587.4 MB 91.1 MB/s eta 0:00:01\r\u001B[K     |████████████████████████████████| 587.4 MB 91.1 MB/s eta 0:00:01\r\u001B[K     |████████████████████████████████| 587.4 MB 91.1 MB/s eta 0:00:01\r\u001B[K     |████████████████████████████████| 587.4 MB 91.1 MB/s eta 0:00:01\r\u001B[K     |████████████████████████████████| 587.4 MB 91.1 MB/s eta 0:00:01\r\u001B[K     |████████████████████████████████| 587.4 MB 91.1 MB/s eta 0:00:01\r\u001B[K     |████████████████████████████████| 587.4 MB 91.1 MB/s eta 0:00:01\r\u001B[K     |████████████████████████████████| 587.4 MB 91.1 MB/s eta 0:00:01\r\u001B[K     |████████████████████████████████| 587.4 MB 91.1 MB/s eta 0:00:01\r\u001B[K     |████████████████████████████████| 587.5 MB 91.1 MB/s eta 0:00:01\r\u001B[K     |████████████████████████████████| 587.5 MB 91.1 MB/s eta 0:00:01\r\u001B[K     |████████████████████████████████| 587.5 MB 91.1 MB/s eta 0:00:01\r\u001B[K     |████████████████████████████████| 587.5 MB 91.1 MB/s eta 0:00:01\r\u001B[K     |████████████████████████████████| 587.5 MB 91.1 MB/s eta 0:00:01\r\u001B[K     |████████████████████████████████| 587.5 MB 91.1 MB/s eta 0:00:01\r\u001B[K     |████████████████████████████████| 587.5 MB 91.1 MB/s eta 0:00:01\r\u001B[K     |████████████████████████████████| 587.5 MB 91.1 MB/s eta 0:00:01\r\u001B[K     |████████████████████████████████| 587.5 MB 91.1 MB/s eta 0:00:01\r\u001B[K     |████████████████████████████████| 587.6 MB 91.1 MB/s eta 0:00:01\r\u001B[K     |████████████████████████████████| 587.6 MB 91.1 MB/s eta 0:00:01\r\u001B[K     |████████████████████████████████| 587.6 MB 91.1 MB/s eta 0:00:01\r\u001B[K     |████████████████████████████████| 587.6 MB 91.1 MB/s eta 0:00:01\r\u001B[K     |████████████████████████████████| 587.6 MB 91.1 MB/s eta 0:00:01\r\u001B[K     |████████████████████████████████| 587.6 MB 91.1 MB/s eta 0:00:01\r\u001B[K     |████████████████████████████████| 587.6 MB 91.1 MB/s eta 0:00:01\r\u001B[K     |████████████████████████████████| 587.6 MB 91.1 MB/s eta 0:00:01\r\u001B[K     |████████████████████████████████| 587.6 MB 91.1 MB/s eta 0:00:01\r\u001B[K     |████████████████████████████████| 587.6 MB 91.1 MB/s eta 0:00:01\r\u001B[K     |████████████████████████████████| 587.7 MB 91.1 MB/s eta 0:00:01\r\u001B[K     |████████████████████████████████| 587.7 MB 91.1 MB/s eta 0:00:01\r\u001B[K     |████████████████████████████████| 587.7 MB 91.1 MB/s eta 0:00:01\r\u001B[K     |████████████████████████████████| 587.7 MB 91.1 MB/s eta 0:00:01\r\u001B[K     |████████████████████████████████| 587.7 MB 7.9 kB/s \r\n\u001B[?25hRequirement already satisfied: spacy<3.5.0,>=3.4.0 in /databricks/python3/lib/python3.9/site-packages (from en-core-web-lg==3.4.1) (3.4.0)\r\nRequirement already satisfied: requests<3.0.0,>=2.13.0 in /databricks/python3/lib/python3.9/site-packages (from spacy<3.5.0,>=3.4.0->en-core-web-lg==3.4.1) (2.26.0)\r\nRequirement already satisfied: pydantic!=1.8,!=1.8.1,<1.10.0,>=1.7.4 in /databricks/python3/lib/python3.9/site-packages (from spacy<3.5.0,>=3.4.0->en-core-web-lg==3.4.1) (1.9.2)\r\nRequirement already satisfied: setuptools in /usr/local/lib/python3.9/dist-packages (from spacy<3.5.0,>=3.4.0->en-core-web-lg==3.4.1) (58.0.4)\r\nRequirement already satisfied: tqdm<5.0.0,>=4.38.0 in /databricks/python3/lib/python3.9/site-packages (from spacy<3.5.0,>=3.4.0->en-core-web-lg==3.4.1) (4.62.3)\r\nRequirement already satisfied: srsly<3.0.0,>=2.4.3 in /databricks/python3/lib/python3.9/site-packages (from spacy<3.5.0,>=3.4.0->en-core-web-lg==3.4.1) (2.4.4)\r\nRequirement already satisfied: wasabi<1.1.0,>=0.9.1 in /databricks/python3/lib/python3.9/site-packages (from spacy<3.5.0,>=3.4.0->en-core-web-lg==3.4.1) (0.10.1)\r\nRequirement already satisfied: preshed<3.1.0,>=3.0.2 in /databricks/python3/lib/python3.9/site-packages (from spacy<3.5.0,>=3.4.0->en-core-web-lg==3.4.1) (3.0.7)\r\nRequirement already satisfied: spacy-legacy<3.1.0,>=3.0.9 in /databricks/python3/lib/python3.9/site-packages (from spacy<3.5.0,>=3.4.0->en-core-web-lg==3.4.1) (3.0.10)\r\nRequirement already satisfied: pathy>=0.3.5 in /databricks/python3/lib/python3.9/site-packages (from spacy<3.5.0,>=3.4.0->en-core-web-lg==3.4.1) (0.6.2)\r\nRequirement already satisfied: murmurhash<1.1.0,>=0.28.0 in /databricks/python3/lib/python3.9/site-packages (from spacy<3.5.0,>=3.4.0->en-core-web-lg==3.4.1) (1.0.8)\r\nRequirement already satisfied: typer<0.5.0,>=0.3.0 in /databricks/python3/lib/python3.9/site-packages (from spacy<3.5.0,>=3.4.0->en-core-web-lg==3.4.1) (0.4.2)\r\nRequirement already satisfied: packaging>=20.0 in /databricks/python3/lib/python3.9/site-packages (from spacy<3.5.0,>=3.4.0->en-core-web-lg==3.4.1) (21.0)\r\nRequirement already satisfied: jinja2 in /databricks/python3/lib/python3.9/site-packages (from spacy<3.5.0,>=3.4.0->en-core-web-lg==3.4.1) (2.11.3)\r\nRequirement already satisfied: cymem<2.1.0,>=2.0.2 in /databricks/python3/lib/python3.9/site-packages (from spacy<3.5.0,>=3.4.0->en-core-web-lg==3.4.1) (2.0.6)\r\nRequirement already satisfied: thinc<8.2.0,>=8.1.0 in /databricks/python3/lib/python3.9/site-packages (from spacy<3.5.0,>=3.4.0->en-core-web-lg==3.4.1) (8.1.0)\r\nRequirement already satisfied: catalogue<2.1.0,>=2.0.6 in /databricks/python3/lib/python3.9/site-packages (from spacy<3.5.0,>=3.4.0->en-core-web-lg==3.4.1) (2.0.8)\r\nRequirement already satisfied: langcodes<4.0.0,>=3.2.0 in /databricks/python3/lib/python3.9/site-packages (from spacy<3.5.0,>=3.4.0->en-core-web-lg==3.4.1) (3.3.0)\r\nRequirement already satisfied: numpy>=1.15.0 in /databricks/python3/lib/python3.9/site-packages (from spacy<3.5.0,>=3.4.0->en-core-web-lg==3.4.1) (1.20.3)\r\nRequirement already satisfied: spacy-loggers<2.0.0,>=1.0.0 in /databricks/python3/lib/python3.9/site-packages (from spacy<3.5.0,>=3.4.0->en-core-web-lg==3.4.1) (1.0.3)\r\nRequirement already satisfied: pyparsing>=2.0.2 in /databricks/python3/lib/python3.9/site-packages (from packaging>=20.0->spacy<3.5.0,>=3.4.0->en-core-web-lg==3.4.1) (3.0.4)\r\nRequirement already satisfied: smart-open<6.0.0,>=5.2.1 in /databricks/python3/lib/python3.9/site-packages (from pathy>=0.3.5->spacy<3.5.0,>=3.4.0->en-core-web-lg==3.4.1) (5.2.1)\r\nRequirement already satisfied: typing-extensions>=3.7.4.3 in /databricks/python3/lib/python3.9/site-packages (from pydantic!=1.8,!=1.8.1,<1.10.0,>=1.7.4->spacy<3.5.0,>=3.4.0->en-core-web-lg==3.4.1) (3.10.0.2)\r\nRequirement already satisfied: idna<4,>=2.5 in /databricks/python3/lib/python3.9/site-packages (from requests<3.0.0,>=2.13.0->spacy<3.5.0,>=3.4.0->en-core-web-lg==3.4.1) (3.2)\r\nRequirement already satisfied: charset-normalizer~=2.0.0 in /databricks/python3/lib/python3.9/site-packages (from requests<3.0.0,>=2.13.0->spacy<3.5.0,>=3.4.0->en-core-web-lg==3.4.1) (2.0.4)\r\nRequirement already satisfied: urllib3<1.27,>=1.21.1 in /databricks/python3/lib/python3.9/site-packages (from requests<3.0.0,>=2.13.0->spacy<3.5.0,>=3.4.0->en-core-web-lg==3.4.1) (1.26.7)\r\nRequirement already satisfied: certifi>=2017.4.17 in /databricks/python3/lib/python3.9/site-packages (from requests<3.0.0,>=2.13.0->spacy<3.5.0,>=3.4.0->en-core-web-lg==3.4.1) (2021.10.8)\r\nRequirement already satisfied: blis<0.8.0,>=0.7.8 in /databricks/python3/lib/python3.9/site-packages (from thinc<8.2.0,>=8.1.0->spacy<3.5.0,>=3.4.0->en-core-web-lg==3.4.1) (0.7.8)\r\nRequirement already satisfied: click<9.0.0,>=7.1.1 in /databricks/python3/lib/python3.9/site-packages (from typer<0.5.0,>=0.3.0->spacy<3.5.0,>=3.4.0->en-core-web-lg==3.4.1) (8.0.3)\r\nRequirement already satisfied: MarkupSafe>=0.23 in /databricks/python3/lib/python3.9/site-packages (from jinja2->spacy<3.5.0,>=3.4.0->en-core-web-lg==3.4.1) (2.0.1)\r\nInstalling collected packages: en-core-web-lg\r\nSuccessfully installed en-core-web-lg-3.4.1\r\n\u001B[33mWARNING: You are using pip version 21.2.4; however, version 23.0.1 is available.\r\nYou should consider upgrading via the '/local_disk0/.ephemeral_nfs/envs/pythonEnv-86018246-b79d-457c-9862-19373a5dd428/bin/python -m pip install --upgrade pip' command.\u001B[0m\r\n\u001B[38;5;2m✔ Download and installation successful\u001B[0m\r\nYou can now load the package via spacy.load('en_core_web_lg')\r\nCollecting pytextrank\r\n  Downloading pytextrank-3.2.4-py3-none-any.whl (30 kB)\r\nRequirement already satisfied: networkx[default]>=2.6 in /databricks/python3/lib/python3.9/site-packages (from pytextrank) (2.6.3)\r\nCollecting icecream>=2.1\r\n  Downloading icecream-2.1.3-py2.py3-none-any.whl (8.4 kB)\r\nRequirement already satisfied: pygments>=2.7.4 in /databricks/python3/lib/python3.9/site-packages (from pytextrank) (2.10.0)\r\nRequirement already satisfied: spacy>=3.0 in /databricks/python3/lib/python3.9/site-packages (from pytextrank) (3.4.0)\r\nRequirement already satisfied: scipy>=1.7 in /databricks/python3/lib/python3.9/site-packages (from pytextrank) (1.7.1)\r\nCollecting graphviz>=0.13\r\n  Downloading graphviz-0.20.1-py3-none-any.whl (47 kB)\r\n\u001B[?25l\r\u001B[K     |███████                         | 10 kB 43.4 MB/s eta 0:00:01\r\u001B[K     |██████████████                  | 20 kB 50.8 MB/s eta 0:00:01\r\u001B[K     |█████████████████████           | 30 kB 58.9 MB/s eta 0:00:01\r\u001B[K     |███████████████████████████▉    | 40 kB 63.3 MB/s eta 0:00:01\r\u001B[K     |████████████████████████████████| 47 kB 725 kB/s \r\n\u001B[?25hCollecting asttokens>=2.0.1\r\n  Downloading asttokens-2.2.1-py2.py3-none-any.whl (26 kB)\r\nCollecting colorama>=0.3.9\r\n  Downloading colorama-0.4.6-py2.py3-none-any.whl (25 kB)\r\nCollecting executing>=0.3.1\r\n  Downloading executing-1.2.0-py2.py3-none-any.whl (24 kB)\r\nRequirement already satisfied: six in /databricks/python3/lib/python3.9/site-packages (from asttokens>=2.0.1->icecream>=2.1->pytextrank) (1.16.0)\r\nRequirement already satisfied: numpy>=1.19 in /databricks/python3/lib/python3.9/site-packages (from networkx[default]>=2.6->pytextrank) (1.20.3)\r\nRequirement already satisfied: matplotlib>=3.3 in /databricks/python3/lib/python3.9/site-packages (from networkx[default]>=2.6->pytextrank) (3.4.3)\r\nRequirement already satisfied: pandas>=1.1 in /databricks/python3/lib/python3.9/site-packages (from networkx[default]>=2.6->pytextrank) (1.3.4)\r\nRequirement already satisfied: python-dateutil>=2.7 in /databricks/python3/lib/python3.9/site-packages (from matplotlib>=3.3->networkx[default]>=2.6->pytextrank) (2.8.2)\r\nRequirement already satisfied: kiwisolver>=1.0.1 in /databricks/python3/lib/python3.9/site-packages (from matplotlib>=3.3->networkx[default]>=2.6->pytextrank) (1.3.1)\r\nRequirement already satisfied: pyparsing>=2.2.1 in /databricks/python3/lib/python3.9/site-packages (from matplotlib>=3.3->networkx[default]>=2.6->pytextrank) (3.0.4)\r\nRequirement already satisfied: cycler>=0.10 in /databricks/python3/lib/python3.9/site-packages (from matplotlib>=3.3->networkx[default]>=2.6->pytextrank) (0.10.0)\r\nRequirement already satisfied: pillow>=6.2.0 in /databricks/python3/lib/python3.9/site-packages (from matplotlib>=3.3->networkx[default]>=2.6->pytextrank) (8.4.0)\r\nRequirement already satisfied: pytz>=2017.3 in /databricks/python3/lib/python3.9/site-packages (from pandas>=1.1->networkx[default]>=2.6->pytextrank) (2021.3)\r\nRequirement already satisfied: requests<3.0.0,>=2.13.0 in /databricks/python3/lib/python3.9/site-packages (from spacy>=3.0->pytextrank) (2.26.0)\r\nRequirement already satisfied: pydantic!=1.8,!=1.8.1,<1.10.0,>=1.7.4 in /databricks/python3/lib/python3.9/site-packages (from spacy>=3.0->pytextrank) (1.9.2)\r\nRequirement already satisfied: setuptools in /usr/local/lib/python3.9/dist-packages (from spacy>=3.0->pytextrank) (58.0.4)\r\nRequirement already satisfied: tqdm<5.0.0,>=4.38.0 in /databricks/python3/lib/python3.9/site-packages (from spacy>=3.0->pytextrank) (4.62.3)\r\nRequirement already satisfied: srsly<3.0.0,>=2.4.3 in /databricks/python3/lib/python3.9/site-packages (from spacy>=3.0->pytextrank) (2.4.4)\r\nRequirement already satisfied: wasabi<1.1.0,>=0.9.1 in /databricks/python3/lib/python3.9/site-packages (from spacy>=3.0->pytextrank) (0.10.1)\r\nRequirement already satisfied: preshed<3.1.0,>=3.0.2 in /databricks/python3/lib/python3.9/site-packages (from spacy>=3.0->pytextrank) (3.0.7)\r\nRequirement already satisfied: spacy-legacy<3.1.0,>=3.0.9 in /databricks/python3/lib/python3.9/site-packages (from spacy>=3.0->pytextrank) (3.0.10)\r\nRequirement already satisfied: pathy>=0.3.5 in /databricks/python3/lib/python3.9/site-packages (from spacy>=3.0->pytextrank) (0.6.2)\r\nRequirement already satisfied: murmurhash<1.1.0,>=0.28.0 in /databricks/python3/lib/python3.9/site-packages (from spacy>=3.0->pytextrank) (1.0.8)\r\nRequirement already satisfied: typer<0.5.0,>=0.3.0 in /databricks/python3/lib/python3.9/site-packages (from spacy>=3.0->pytextrank) (0.4.2)\r\nRequirement already satisfied: packaging>=20.0 in /databricks/python3/lib/python3.9/site-packages (from spacy>=3.0->pytextrank) (21.0)\r\nRequirement already satisfied: jinja2 in /databricks/python3/lib/python3.9/site-packages (from spacy>=3.0->pytextrank) (2.11.3)\r\nRequirement already satisfied: cymem<2.1.0,>=2.0.2 in /databricks/python3/lib/python3.9/site-packages (from spacy>=3.0->pytextrank) (2.0.6)\r\nRequirement already satisfied: thinc<8.2.0,>=8.1.0 in /databricks/python3/lib/python3.9/site-packages (from spacy>=3.0->pytextrank) (8.1.0)\r\nRequirement already satisfied: catalogue<2.1.0,>=2.0.6 in /databricks/python3/lib/python3.9/site-packages (from spacy>=3.0->pytextrank) (2.0.8)\r\nRequirement already satisfied: langcodes<4.0.0,>=3.2.0 in /databricks/python3/lib/python3.9/site-packages (from spacy>=3.0->pytextrank) (3.3.0)\r\nRequirement already satisfied: spacy-loggers<2.0.0,>=1.0.0 in /databricks/python3/lib/python3.9/site-packages (from spacy>=3.0->pytextrank) (1.0.3)\r\nRequirement already satisfied: smart-open<6.0.0,>=5.2.1 in /databricks/python3/lib/python3.9/site-packages (from pathy>=0.3.5->spacy>=3.0->pytextrank) (5.2.1)\r\nRequirement already satisfied: typing-extensions>=3.7.4.3 in /databricks/python3/lib/python3.9/site-packages (from pydantic!=1.8,!=1.8.1,<1.10.0,>=1.7.4->spacy>=3.0->pytextrank) (3.10.0.2)\r\nRequirement already satisfied: idna<4,>=2.5 in /databricks/python3/lib/python3.9/site-packages (from requests<3.0.0,>=2.13.0->spacy>=3.0->pytextrank) (3.2)\r\nRequirement already satisfied: charset-normalizer~=2.0.0 in /databricks/python3/lib/python3.9/site-packages (from requests<3.0.0,>=2.13.0->spacy>=3.0->pytextrank) (2.0.4)\r\nRequirement already satisfied: urllib3<1.27,>=1.21.1 in /databricks/python3/lib/python3.9/site-packages (from requests<3.0.0,>=2.13.0->spacy>=3.0->pytextrank) (1.26.7)\r\nRequirement already satisfied: certifi>=2017.4.17 in /databricks/python3/lib/python3.9/site-packages (from requests<3.0.0,>=2.13.0->spacy>=3.0->pytextrank) (2021.10.8)\r\nRequirement already satisfied: blis<0.8.0,>=0.7.8 in /databricks/python3/lib/python3.9/site-packages (from thinc<8.2.0,>=8.1.0->spacy>=3.0->pytextrank) (0.7.8)\r\nRequirement already satisfied: click<9.0.0,>=7.1.1 in /databricks/python3/lib/python3.9/site-packages (from typer<0.5.0,>=0.3.0->spacy>=3.0->pytextrank) (8.0.3)\r\nRequirement already satisfied: MarkupSafe>=0.23 in /databricks/python3/lib/python3.9/site-packages (from jinja2->spacy>=3.0->pytextrank) (2.0.1)\r\nInstalling collected packages: executing, colorama, asttokens, icecream, graphviz, pytextrank\r\nSuccessfully installed asttokens-2.2.1 colorama-0.4.6 executing-1.2.0 graphviz-0.20.1 icecream-2.1.3 pytextrank-3.2.4\r\n\u001B[33mWARNING: You are using pip version 21.2.4; however, version 23.0.1 is available.\r\nYou should consider upgrading via the '/local_disk0/.ephemeral_nfs/envs/pythonEnv-86018246-b79d-457c-9862-19373a5dd428/bin/python -m pip install --upgrade pip' command.\u001B[0m\r\n"
     ]
    }
   ],
   "source": [
    "!pip install spacy\n",
    "!python -m spacy download en_core_web_lg\n",
    "!pip install pytextrank"
   ]
  },
  {
   "cell_type": "markdown",
   "metadata": {
    "application/vnd.databricks.v1+cell": {
     "cellMetadata": {},
     "inputWidgets": {},
     "nuid": "428c170b-35c1-4bb1-ac35-968f6f45d05b",
     "showTitle": false,
     "title": ""
    }
   },
   "source": [
    "### Code"
   ]
  },
  {
   "cell_type": "code",
   "execution_count": 0,
   "metadata": {
    "application/vnd.databricks.v1+cell": {
     "cellMetadata": {
      "byteLimit": 2048000,
      "rowLimit": 10000
     },
     "inputWidgets": {},
     "nuid": "d3065f2b-e3b3-4ebf-9be9-39fe31baf333",
     "showTitle": false,
     "title": ""
    }
   },
   "outputs": [],
   "source": [
    "import spacy\n",
    "import pytextrank"
   ]
  },
  {
   "cell_type": "code",
   "execution_count": 0,
   "metadata": {
    "application/vnd.databricks.v1+cell": {
     "cellMetadata": {
      "byteLimit": 2048000,
      "rowLimit": 10000
     },
     "inputWidgets": {},
     "nuid": "b13709bc-91da-43fe-9549-dc16429f55c1",
     "showTitle": false,
     "title": ""
    }
   },
   "outputs": [
    {
     "output_type": "stream",
     "name": "stdout",
     "output_type": "stream",
     "text": [
      "Out[6]: <pytextrank.base.BaseTextRankFactory at 0x7f1239bd4c70>"
     ]
    }
   ],
   "source": [
    "# Create spaCy pipeline and add textrank to it\n",
    "nlp = spacy.load(\"en_core_web_lg\")\n",
    "nlp.add_pipe(\"textrank\")"
   ]
  },
  {
   "cell_type": "code",
   "execution_count": 0,
   "metadata": {
    "application/vnd.databricks.v1+cell": {
     "cellMetadata": {
      "byteLimit": 2048000,
      "rowLimit": 10000
     },
     "inputWidgets": {},
     "nuid": "95d6294e-ea54-4404-a538-68061ca9ee24",
     "showTitle": false,
     "title": ""
    }
   },
   "outputs": [],
   "source": [
    "doc = nlp(summarize_me)"
   ]
  },
  {
   "cell_type": "code",
   "execution_count": 0,
   "metadata": {
    "application/vnd.databricks.v1+cell": {
     "cellMetadata": {
      "byteLimit": 2048000,
      "rowLimit": 10000
     },
     "inputWidgets": {},
     "nuid": "53525aad-9ac4-48b5-9fcc-6b55abea677d",
     "showTitle": false,
     "title": ""
    }
   },
   "outputs": [
    {
     "output_type": "stream",
     "name": "stdout",
     "output_type": "stream",
     "text": [
      "With the growth of the Internet, the Internet of Things, and the exponential growth of data volumes available to enterprises, there has been a flood of new information or big data.\nOnce the doors were opened by businesses seeking to increase profits and drive better decision-making, the use of big data started being applied to other fields, such as medicine, engineering, and social sciences.\n\nWith the growth of the Internet, the Internet of Things, and the exponential growth of data volumes available to enterprises, there has been a flood of new information or big data.\nOnce the doors were opened by businesses seeking to increase profits and drive better decision-making, the use of big data started being applied to other fields, such as medicine, engineering, and social sciences.\n\n"
     ]
    }
   ],
   "source": [
    "n_phrases, n_sentences = 2, 4\n",
    "for sent in doc._.textrank.summary(limit_phrases = n_phrases, limit_sentences = n_sentences):\n",
    "  print(sent)"
   ]
  },
  {
   "cell_type": "code",
   "execution_count": 0,
   "metadata": {
    "application/vnd.databricks.v1+cell": {
     "cellMetadata": {
      "byteLimit": 2048000,
      "rowLimit": 10000
     },
     "inputWidgets": {},
     "nuid": "f21a4508-038a-4803-9ac5-61ae553fafa2",
     "showTitle": false,
     "title": ""
    }
   },
   "outputs": [
    {
     "output_type": "stream",
     "name": "stdout",
     "output_type": "stream",
     "text": [
      "Out[7]: [(big data, 0.12253844453442032),\n (data, 0.11412295060482798),\n (data volumes, 0.1140447618028625),\n (other fields, 0.08935680196072456),\n (Data Science, 0.0884026387441695),\n (fields, 0.08309610252687923),\n (social sciences, 0.0758422375988491),\n (computer science, 0.06982236727923087),\n (Data Management, 0.06912312972200427),\n (smarter decisions, 0.0689398682430784)]"
     ]
    }
   ],
   "source": [
    "phrases_and_ranks = [ \n",
    "  (phrase.chunks[0], phrase.rank) for phrase in doc._.phrases\n",
    "]\n",
    "phrases_and_ranks[:10]"
   ]
  },
  {
   "cell_type": "markdown",
   "metadata": {
    "application/vnd.databricks.v1+cell": {
     "cellMetadata": {},
     "inputWidgets": {},
     "nuid": "72c70853-3c93-4f9d-8745-8513a73e5030",
     "showTitle": false,
     "title": ""
    }
   },
   "source": [
    "## Abstractive Summarization"
   ]
  },
  {
   "cell_type": "markdown",
   "metadata": {
    "application/vnd.databricks.v1+cell": {
     "cellMetadata": {},
     "inputWidgets": {},
     "nuid": "591154a0-6608-4ef0-90ce-a3fca62e464a",
     "showTitle": false,
     "title": ""
    }
   },
   "source": [
    "### Installs"
   ]
  },
  {
   "cell_type": "code",
   "execution_count": 0,
   "metadata": {
    "application/vnd.databricks.v1+cell": {
     "cellMetadata": {
      "byteLimit": 2048000,
      "rowLimit": 10000
     },
     "inputWidgets": {},
     "nuid": "6176bc9f-e827-4dd5-ae4e-1113265d1a62",
     "showTitle": false,
     "title": ""
    }
   },
   "outputs": [
    {
     "output_type": "stream",
     "name": "stdout",
     "output_type": "stream",
     "text": [
      "Requirement already satisfied: transformers in /databricks/python3/lib/python3.9/site-packages (4.20.1)\r\nRequirement already satisfied: packaging>=20.0 in /databricks/python3/lib/python3.9/site-packages (from transformers) (21.0)\r\nRequirement already satisfied: pyyaml>=5.1 in /databricks/python3/lib/python3.9/site-packages (from transformers) (6.0)\r\nRequirement already satisfied: filelock in /databricks/python3/lib/python3.9/site-packages (from transformers) (3.3.1)\r\nRequirement already satisfied: numpy>=1.17 in /databricks/python3/lib/python3.9/site-packages (from transformers) (1.20.3)\r\nRequirement already satisfied: regex!=2019.12.17 in /databricks/python3/lib/python3.9/site-packages (from transformers) (2021.8.3)\r\nRequirement already satisfied: tokenizers!=0.11.3,<0.13,>=0.11.1 in /databricks/python3/lib/python3.9/site-packages (from transformers) (0.12.1)\r\nRequirement already satisfied: tqdm>=4.27 in /databricks/python3/lib/python3.9/site-packages (from transformers) (4.62.3)\r\nRequirement already satisfied: huggingface-hub<1.0,>=0.1.0 in /databricks/python3/lib/python3.9/site-packages (from transformers) (0.9.0)\r\nRequirement already satisfied: requests in /databricks/python3/lib/python3.9/site-packages (from transformers) (2.26.0)\r\nRequirement already satisfied: typing-extensions>=3.7.4.3 in /databricks/python3/lib/python3.9/site-packages (from huggingface-hub<1.0,>=0.1.0->transformers) (3.10.0.2)\r\nRequirement already satisfied: pyparsing>=2.0.2 in /databricks/python3/lib/python3.9/site-packages (from packaging>=20.0->transformers) (3.0.4)\r\nRequirement already satisfied: idna<4,>=2.5 in /databricks/python3/lib/python3.9/site-packages (from requests->transformers) (3.2)\r\nRequirement already satisfied: charset-normalizer~=2.0.0 in /databricks/python3/lib/python3.9/site-packages (from requests->transformers) (2.0.4)\r\nRequirement already satisfied: urllib3<1.27,>=1.21.1 in /databricks/python3/lib/python3.9/site-packages (from requests->transformers) (1.26.7)\r\nRequirement already satisfied: certifi>=2017.4.17 in /databricks/python3/lib/python3.9/site-packages (from requests->transformers) (2021.10.8)\r\n\u001B[33mWARNING: You are using pip version 21.2.4; however, version 23.0.1 is available.\r\nYou should consider upgrading via the '/local_disk0/.ephemeral_nfs/envs/pythonEnv-1e7b5915-325b-4c0a-8cc2-d3aa503d63db/bin/python -m pip install --upgrade pip' command.\u001B[0m\r\nCollecting sentencepiece\r\n  Downloading sentencepiece-0.1.97-cp39-cp39-manylinux_2_17_x86_64.manylinux2014_x86_64.whl (1.3 MB)\r\n\u001B[?25l\r\u001B[K     |▎                               | 10 kB 37.3 MB/s eta 0:00:01\r\u001B[K     |▌                               | 20 kB 42.3 MB/s eta 0:00:01\r\u001B[K     |▊                               | 30 kB 51.0 MB/s eta 0:00:01\r\u001B[K     |█                               | 40 kB 29.1 MB/s eta 0:00:01\r\u001B[K     |█▎                              | 51 kB 28.1 MB/s eta 0:00:01\r\u001B[K     |█▌                              | 61 kB 31.9 MB/s eta 0:00:01\r\u001B[K     |█▉                              | 71 kB 28.0 MB/s eta 0:00:01\r\u001B[K     |██                              | 81 kB 30.6 MB/s eta 0:00:01\r\u001B[K     |██▎                             | 92 kB 33.2 MB/s eta 0:00:01\r\u001B[K     |██▋                             | 102 kB 30.2 MB/s eta 0:00:01\r\u001B[K     |██▉                             | 112 kB 30.2 MB/s eta 0:00:01\r\u001B[K     |███                             | 122 kB 30.2 MB/s eta 0:00:01\r\u001B[K     |███▍                            | 133 kB 30.2 MB/s eta 0:00:01\r\u001B[K     |███▋                            | 143 kB 30.2 MB/s eta 0:00:01\r\u001B[K     |███▉                            | 153 kB 30.2 MB/s eta 0:00:01\r\u001B[K     |████                            | 163 kB 30.2 MB/s eta 0:00:01\r\u001B[K     |████▍                           | 174 kB 30.2 MB/s eta 0:00:01\r\u001B[K     |████▋                           | 184 kB 30.2 MB/s eta 0:00:01\r\u001B[K     |████▉                           | 194 kB 30.2 MB/s eta 0:00:01\r\u001B[K     |█████▏                          | 204 kB 30.2 MB/s eta 0:00:01\r\u001B[K     |█████▍                          | 215 kB 30.2 MB/s eta 0:00:01\r\u001B[K     |█████▋                          | 225 kB 30.2 MB/s eta 0:00:01\r\u001B[K     |██████                          | 235 kB 30.2 MB/s eta 0:00:01\r\u001B[K     |██████▏                         | 245 kB 30.2 MB/s eta 0:00:01\r\u001B[K     |██████▍                         | 256 kB 30.2 MB/s eta 0:00:01\r\u001B[K     |██████▊                         | 266 kB 30.2 MB/s eta 0:00:01\r\u001B[K     |███████                         | 276 kB 30.2 MB/s eta 0:00:01\r\u001B[K     |███████▏                        | 286 kB 30.2 MB/s eta 0:00:01\r\u001B[K     |███████▍                        | 296 kB 30.2 MB/s eta 0:00:01\r\u001B[K     |███████▊                        | 307 kB 30.2 MB/s eta 0:00:01\r\u001B[K     |████████                        | 317 kB 30.2 MB/s eta 0:00:01\r\u001B[K     |████████▏                       | 327 kB 30.2 MB/s eta 0:00:01\r\u001B[K     |████████▌                       | 337 kB 30.2 MB/s eta 0:00:01\r\u001B[K     |████████▊                       | 348 kB 30.2 MB/s eta 0:00:01\r\u001B[K     |█████████                       | 358 kB 30.2 MB/s eta 0:00:01\r\u001B[K     |█████████▎                      | 368 kB 30.2 MB/s eta 0:00:01\r\u001B[K     |█████████▌                      | 378 kB 30.2 MB/s eta 0:00:01\r\u001B[K     |█████████▊                      | 389 kB 30.2 MB/s eta 0:00:01\r\u001B[K     |██████████                      | 399 kB 30.2 MB/s eta 0:00:01\r\u001B[K     |██████████▎                     | 409 kB 30.2 MB/s eta 0:00:01\r\u001B[K     |██████████▌                     | 419 kB 30.2 MB/s eta 0:00:01\r\u001B[K     |██████████▉                     | 430 kB 30.2 MB/s eta 0:00:01\r\u001B[K     |███████████                     | 440 kB 30.2 MB/s eta 0:00:01\r\u001B[K     |███████████▎                    | 450 kB 30.2 MB/s eta 0:00:01\r\u001B[K     |███████████▌                    | 460 kB 30.2 MB/s eta 0:00:01\r\u001B[K     |███████████▉                    | 471 kB 30.2 MB/s eta 0:00:01\r\u001B[K     |████████████                    | 481 kB 30.2 MB/s eta 0:00:01\r\u001B[K     |████████████▎                   | 491 kB 30.2 MB/s eta 0:00:01\r\u001B[K     |████████████▋                   | 501 kB 30.2 MB/s eta 0:00:01\r\u001B[K     |████████████▉                   | 512 kB 30.2 MB/s eta 0:00:01\r\u001B[K     |█████████████                   | 522 kB 30.2 MB/s eta 0:00:01\r\u001B[K     |█████████████▍                  | 532 kB 30.2 MB/s eta 0:00:01\r\u001B[K     |█████████████▋                  | 542 kB 30.2 MB/s eta 0:00:01\r\u001B[K     |█████████████▉                  | 552 kB 30.2 MB/s eta 0:00:01\r\u001B[K     |██████████████▏                 | 563 kB 30.2 MB/s eta 0:00:01\r\u001B[K     |██████████████▍                 | 573 kB 30.2 MB/s eta 0:00:01\r\u001B[K     |██████████████▋                 | 583 kB 30.2 MB/s eta 0:00:01\r\u001B[K     |██████████████▉                 | 593 kB 30.2 MB/s eta 0:00:01\r\u001B[K     |███████████████▏                | 604 kB 30.2 MB/s eta 0:00:01\r\u001B[K     |███████████████▍                | 614 kB 30.2 MB/s eta 0:00:01\r\u001B[K     |███████████████▋                | 624 kB 30.2 MB/s eta 0:00:01\r\u001B[K     |████████████████                | 634 kB 30.2 MB/s eta 0:00:01\r\u001B[K     |████████████████▏               | 645 kB 30.2 MB/s eta 0:00:01\r\u001B[K     |████████████████▍               | 655 kB 30.2 MB/s eta 0:00:01\r\u001B[K     |████████████████▊               | 665 kB 30.2 MB/s eta 0:00:01\r\u001B[K     |█████████████████               | 675 kB 30.2 MB/s eta 0:00:01\r\u001B[K     |█████████████████▏              | 686 kB 30.2 MB/s eta 0:00:01\r\u001B[K     |█████████████████▌              | 696 kB 30.2 MB/s eta 0:00:01\r\u001B[K     |█████████████████▊              | 706 kB 30.2 MB/s eta 0:00:01\r\u001B[K     |██████████████████              | 716 kB 30.2 MB/s eta 0:00:01\r\u001B[K     |██████████████████▎             | 727 kB 30.2 MB/s eta 0:00:01\r\u001B[K     |██████████████████▌             | 737 kB 30.2 MB/s eta 0:00:01\r\u001B[K     |██████████████████▊             | 747 kB 30.2 MB/s eta 0:00:01\r\u001B[K     |███████████████████             | 757 kB 30.2 MB/s eta 0:00:01\r\u001B[K     |███████████████████▎            | 768 kB 30.2 MB/s eta 0:00:01\r\u001B[K     |███████████████████▌            | 778 kB 30.2 MB/s eta 0:00:01\r\u001B[K     |███████████████████▊            | 788 kB 30.2 MB/s eta 0:00:01\r\u001B[K     |████████████████████            | 798 kB 30.2 MB/s eta 0:00:01\r\u001B[K     |████████████████████▎           | 808 kB 30.2 MB/s eta 0:00:01\r\u001B[K     |████████████████████▌           | 819 kB 30.2 MB/s eta 0:00:01\r\u001B[K     |████████████████████▉           | 829 kB 30.2 MB/s eta 0:00:01\r\u001B[K     |█████████████████████           | 839 kB 30.2 MB/s eta 0:00:01\r\u001B[K     |█████████████████████▎          | 849 kB 30.2 MB/s eta 0:00:01\r\u001B[K     |█████████████████████▋          | 860 kB 30.2 MB/s eta 0:00:01\r\u001B[K     |█████████████████████▉          | 870 kB 30.2 MB/s eta 0:00:01\r\u001B[K     |██████████████████████          | 880 kB 30.2 MB/s eta 0:00:01\r\u001B[K     |██████████████████████▎         | 890 kB 30.2 MB/s eta 0:00:01\r\u001B[K     |██████████████████████▋         | 901 kB 30.2 MB/s eta 0:00:01\r\u001B[K     |██████████████████████▉         | 911 kB 30.2 MB/s eta 0:00:01\r\u001B[K     |███████████████████████         | 921 kB 30.2 MB/s eta 0:00:01\r\u001B[K     |███████████████████████▍        | 931 kB 30.2 MB/s eta 0:00:01\r\u001B[K     |███████████████████████▋        | 942 kB 30.2 MB/s eta 0:00:01\r\u001B[K     |███████████████████████▉        | 952 kB 30.2 MB/s eta 0:00:01\r\u001B[K     |████████████████████████▏       | 962 kB 30.2 MB/s eta 0:00:01\r\u001B[K     |████████████████████████▍       | 972 kB 30.2 MB/s eta 0:00:01\r\u001B[K     |████████████████████████▋       | 983 kB 30.2 MB/s eta 0:00:01\r\u001B[K     |█████████████████████████       | 993 kB 30.2 MB/s eta 0:00:01\r\u001B[K     |█████████████████████████▏      | 1.0 MB 30.2 MB/s eta 0:00:01\r\u001B[K     |█████████████████████████▍      | 1.0 MB 30.2 MB/s eta 0:00:01\r\u001B[K     |█████████████████████████▋      | 1.0 MB 30.2 MB/s eta 0:00:01\r\u001B[K     |██████████████████████████      | 1.0 MB 30.2 MB/s eta 0:00:01\r\u001B[K     |██████████████████████████▏     | 1.0 MB 30.2 MB/s eta 0:00:01\r\u001B[K     |██████████████████████████▍     | 1.1 MB 30.2 MB/s eta 0:00:01\r\u001B[K     |██████████████████████████▊     | 1.1 MB 30.2 MB/s eta 0:00:01\r\u001B[K     |███████████████████████████     | 1.1 MB 30.2 MB/s eta 0:00:01\r\u001B[K     |███████████████████████████▏    | 1.1 MB 30.2 MB/s eta 0:00:01\r\u001B[K     |███████████████████████████▌    | 1.1 MB 30.2 MB/s eta 0:00:01\r\u001B[K     |███████████████████████████▊    | 1.1 MB 30.2 MB/s eta 0:00:01\r\u001B[K     |████████████████████████████    | 1.1 MB 30.2 MB/s eta 0:00:01\r\u001B[K     |████████████████████████████▎   | 1.1 MB 30.2 MB/s eta 0:00:01\r\u001B[K     |████████████████████████████▌   | 1.1 MB 30.2 MB/s eta 0:00:01\r\u001B[K     |████████████████████████████▊   | 1.1 MB 30.2 MB/s eta 0:00:01\r\u001B[K     |█████████████████████████████   | 1.2 MB 30.2 MB/s eta 0:00:01\r\u001B[K     |█████████████████████████████▎  | 1.2 MB 30.2 MB/s eta 0:00:01\r\u001B[K     |█████████████████████████████▌  | 1.2 MB 30.2 MB/s eta 0:00:01\r\u001B[K     |█████████████████████████████▊  | 1.2 MB 30.2 MB/s eta 0:00:01\r\u001B[K     |██████████████████████████████  | 1.2 MB 30.2 MB/s eta 0:00:01\r\u001B[K     |██████████████████████████████▎ | 1.2 MB 30.2 MB/s eta 0:00:01\r\u001B[K     |██████████████████████████████▌ | 1.2 MB 30.2 MB/s eta 0:00:01\r\u001B[K     |██████████████████████████████▉ | 1.2 MB 30.2 MB/s eta 0:00:01\r\u001B[K     |███████████████████████████████ | 1.2 MB 30.2 MB/s eta 0:00:01\r\u001B[K     |███████████████████████████████▎| 1.2 MB 30.2 MB/s eta 0:00:01\r\u001B[K     |███████████████████████████████▋| 1.3 MB 30.2 MB/s eta 0:00:01\r\u001B[K     |███████████████████████████████▉| 1.3 MB 30.2 MB/s eta 0:00:01\r\u001B[K     |████████████████████████████████| 1.3 MB 30.2 MB/s \r\n\u001B[?25hInstalling collected packages: sentencepiece\r\nSuccessfully installed sentencepiece-0.1.97\r\n\u001B[33mWARNING: You are using pip version 21.2.4; however, version 23.0.1 is available.\r\nYou should consider upgrading via the '/local_disk0/.ephemeral_nfs/envs/pythonEnv-1e7b5915-325b-4c0a-8cc2-d3aa503d63db/bin/python -m pip install --upgrade pip' command.\u001B[0m\r\n"
     ]
    }
   ],
   "source": [
    "!pip install transformers\n",
    "# For anaconda-miniconda: conda install -c huggingface transformers\n",
    "\n",
    "!pip install sentencepiece"
   ]
  },
  {
   "cell_type": "markdown",
   "metadata": {
    "application/vnd.databricks.v1+cell": {
     "cellMetadata": {},
     "inputWidgets": {},
     "nuid": "6dc80f3a-1498-440d-898d-98b36661b0a2",
     "showTitle": false,
     "title": ""
    }
   },
   "source": [
    "### Code"
   ]
  },
  {
   "cell_type": "code",
   "execution_count": 0,
   "metadata": {
    "application/vnd.databricks.v1+cell": {
     "cellMetadata": {
      "byteLimit": 2048000,
      "rowLimit": 10000
     },
     "inputWidgets": {},
     "nuid": "43d6c250-17a6-4ed6-af3d-6acc14df6293",
     "showTitle": false,
     "title": ""
    }
   },
   "outputs": [],
   "source": [
    "from transformers import PegasusForConditionalGeneration\n",
    "from transformers import PegasusTokenizer\n",
    "from transformers import pipeline"
   ]
  },
  {
   "cell_type": "code",
   "execution_count": 0,
   "metadata": {
    "application/vnd.databricks.v1+cell": {
     "cellMetadata": {
      "byteLimit": 2048000,
      "rowLimit": 10000
     },
     "inputWidgets": {},
     "nuid": "d66c92c4-db11-4742-a0fb-7bafbef3a097",
     "showTitle": false,
     "title": ""
    }
   },
   "outputs": [],
   "source": [
    "# Pick model\n",
    "model_name = \"google/pegasus-xsum\"\n",
    "# Load pretrained tokenizer\n",
    "pegasus_tokenizer = PegasusTokenizer.from_pretrained(model_name)"
   ]
  },
  {
   "cell_type": "code",
   "execution_count": 0,
   "metadata": {
    "application/vnd.databricks.v1+cell": {
     "cellMetadata": {
      "byteLimit": 2048000,
      "rowLimit": 10000
     },
     "inputWidgets": {},
     "nuid": "f3f30a8f-2bdf-4685-9d97-43a99bf974ce",
     "showTitle": false,
     "title": ""
    }
   },
   "outputs": [],
   "source": [
    "# Define PEGASUS model\n",
    "pegasus_model = PegasusForConditionalGeneration.from_pretrained(model_name)\n",
    "# Create tokens\n",
    "tokens = pegasus_tokenizer(summarize_me, truncation = True, padding = \"longest\", return_tensors = \"pt\")"
   ]
  },
  {
   "cell_type": "code",
   "execution_count": 0,
   "metadata": {
    "application/vnd.databricks.v1+cell": {
     "cellMetadata": {
      "byteLimit": 2048000,
      "rowLimit": 10000
     },
     "inputWidgets": {},
     "nuid": "03566177-6a0d-4fb9-9252-404f783940dd",
     "showTitle": false,
     "title": ""
    }
   },
   "outputs": [],
   "source": [
    "# Summarize the desired text\n",
    "encoded_summary = pegasus_model.generate(**tokens)\n",
    "# Decode the summarized text\n",
    "decoded_summary = pegasus_tokenizer.decode(encoded_summary[0], skip_special_tokens = True)"
   ]
  },
  {
   "cell_type": "code",
   "execution_count": 0,
   "metadata": {
    "application/vnd.databricks.v1+cell": {
     "cellMetadata": {
      "byteLimit": 2048000,
      "rowLimit": 10000
     },
     "inputWidgets": {},
     "nuid": "32136d4e-43b8-49d7-be30-ae4e2fe4825b",
     "showTitle": false,
     "title": ""
    }
   },
   "outputs": [
    {
     "output_type": "stream",
     "name": "stdout",
     "output_type": "stream",
     "text": [
      "Out[30]: 'Once the doors were opened by businesses seeking to increase profits and drive better decision-making, the use of big data started being applied to other fields, such as medicine, engineering, and social sciences.'"
     ]
    }
   ],
   "source": [
    "decoded_summary"
   ]
  },
  {
   "cell_type": "code",
   "execution_count": 0,
   "metadata": {
    "application/vnd.databricks.v1+cell": {
     "cellMetadata": {
      "byteLimit": 2048000,
      "rowLimit": 10000
     },
     "inputWidgets": {},
     "nuid": "603c18d6-63f3-4d08-965f-cb23c41bc46b",
     "showTitle": false,
     "title": ""
    }
   },
   "outputs": [],
   "source": [
    "# Define summarization pipeline \n",
    "summarizer = pipeline(\"summarization\", model = model_name, tokenizer = pegasus_tokenizer, framework = \"pt\")"
   ]
  },
  {
   "cell_type": "code",
   "execution_count": 0,
   "metadata": {
    "application/vnd.databricks.v1+cell": {
     "cellMetadata": {
      "byteLimit": 2048000,
      "rowLimit": 10000
     },
     "inputWidgets": {},
     "nuid": "5fdcdd45-0c25-49fb-9204-5612c3a09aa6",
     "showTitle": false,
     "title": ""
    }
   },
   "outputs": [],
   "source": [
    "# Create summary \n",
    "summary = summarizer(summarize_me, min_length=30, max_length=150, truncation=True)"
   ]
  },
  {
   "cell_type": "code",
   "execution_count": 0,
   "metadata": {
    "application/vnd.databricks.v1+cell": {
     "cellMetadata": {
      "byteLimit": 2048000,
      "rowLimit": 10000
     },
     "inputWidgets": {},
     "nuid": "9f414d80-366b-47fe-9855-64f6cb29da8c",
     "showTitle": false,
     "title": ""
    }
   },
   "outputs": [
    {
     "output_type": "stream",
     "name": "stdout",
     "output_type": "stream",
     "text": [
      "Out[42]: 'Once the doors were opened by businesses seeking to increase profits and drive better decision-making, the use of big data started being applied to other fields, such as medicine, engineering, and social sciences.'"
     ]
    }
   ],
   "source": [
    "summary[0][\"summary_text\"]"
   ]
  },
  {
   "cell_type": "markdown",
   "metadata": {
    "application/vnd.databricks.v1+cell": {
     "cellMetadata": {},
     "inputWidgets": {},
     "nuid": "1bcba9df-9309-4a8c-a14b-cc8284148ed5",
     "showTitle": false,
     "title": ""
    }
   },
   "source": [
    "# Article 2 - Check"
   ]
  },
  {
   "cell_type": "code",
   "execution_count": 0,
   "metadata": {
    "application/vnd.databricks.v1+cell": {
     "cellMetadata": {
      "byteLimit": 2048000,
      "rowLimit": 10000
     },
     "inputWidgets": {},
     "nuid": "ed5e42ff-902a-4276-8b28-359acec0131e",
     "showTitle": false,
     "title": ""
    }
   },
   "outputs": [],
   "source": [
    "# https://medium.com/analytics-vidhya/text-summarization-in-python-using-extractive-method-including-end-to-end-implementation-2688b3fd1c8c"
   ]
  },
  {
   "cell_type": "code",
   "execution_count": 0,
   "metadata": {
    "application/vnd.databricks.v1+cell": {
     "cellMetadata": {
      "byteLimit": 2048000,
      "rowLimit": 10000
     },
     "inputWidgets": {},
     "nuid": "da7b15f5-762e-4352-95e5-69b006212d9b",
     "showTitle": false,
     "title": ""
    }
   },
   "outputs": [],
   "source": [
    "import numpy as np\n",
    "import networkx as nx\n",
    "import nltk, re\n",
    "from nltk.corpus import stopwords\n",
    "from nltk.cluster.util import cosine_distance\n",
    "from nltk.tokenize import sent_tokenize"
   ]
  },
  {
   "cell_type": "code",
   "execution_count": 0,
   "metadata": {
    "application/vnd.databricks.v1+cell": {
     "cellMetadata": {
      "byteLimit": 2048000,
      "rowLimit": 10000
     },
     "inputWidgets": {},
     "nuid": "427ebd5a-3905-4e01-9971-a24672bea8a0",
     "showTitle": false,
     "title": ""
    }
   },
   "outputs": [],
   "source": [
    "def read_text(txt: str = \"\"):        \n",
    "  sentences = []        \n",
    "  sentences = sent_tokenize(txt)    \n",
    "  for sentence in sentences:        \n",
    "    sentence.replace(\"[^a-zA-Z0-9]\", \" \")     \n",
    "  return sentences"
   ]
  },
  {
   "cell_type": "code",
   "execution_count": 0,
   "metadata": {
    "application/vnd.databricks.v1+cell": {
     "cellMetadata": {
      "byteLimit": 2048000,
      "rowLimit": 10000
     },
     "inputWidgets": {},
     "nuid": "f02120d8-5be2-4348-9519-616d091fa485",
     "showTitle": false,
     "title": ""
    }
   },
   "outputs": [],
   "source": [
    "def sentence_similarity(sentence1, sentence2, stopwords = []):\n",
    "  sentence1 = [word.lower() for word in sentence1]\n",
    "  sentence2 = [word.lower() for word in sentence2]\n",
    "  all_words = list(set(sentence1 + sentence2))\n",
    "  vector1 = [0] * len(all_words)\n",
    "  vector2 = [0] * len(all_words)\n",
    "  # First sentence vector\n",
    "  for word in sentence1:\n",
    "    if not word in stopwords:\n",
    "      vector1[all_words.index(word)] += 1\n",
    "  # Second sentence vector\n",
    "  for word in sentence2:\n",
    "    if not word in stopwords:\n",
    "      vector2[all_words.index(word)] += 1\n",
    "  # Vectors cosine similarity\n",
    "  return 1 - cosine_distance(vector1, vector2)"
   ]
  },
  {
   "cell_type": "code",
   "execution_count": 0,
   "metadata": {
    "application/vnd.databricks.v1+cell": {
     "cellMetadata": {
      "byteLimit": 2048000,
      "rowLimit": 10000
     },
     "inputWidgets": {},
     "nuid": "1b569ac6-6235-4975-9b2d-4ba119073b1d",
     "showTitle": false,
     "title": ""
    }
   },
   "outputs": [],
   "source": [
    "def sentences_similarity_matrix(sentences, stopwords_):\n",
    "  similarity_matrix = np.zeros((len(sentences), len(sentences))) # N on N\n",
    "  for i in range(len(sentences)):\n",
    "      for j in range(len(sentences)):\n",
    "        if i != j:\n",
    "          similarity_matrix[i][j] = sentence_similarity(sentences[i], sentences[j], stopwords_)\n",
    "  return similarity_matrix"
   ]
  },
  {
   "cell_type": "code",
   "execution_count": 0,
   "metadata": {
    "application/vnd.databricks.v1+cell": {
     "cellMetadata": {
      "byteLimit": 2048000,
      "rowLimit": 10000
     },
     "inputWidgets": {},
     "nuid": "d67ae093-2fe4-456b-a464-fc00bf08a6b0",
     "showTitle": false,
     "title": ""
    }
   },
   "outputs": [],
   "source": [
    "def summarize(txt, top_n):\n",
    "  nltk.download('stopwords')\n",
    "  nltk.download('punkt')\n",
    "  final_stopwords = stopwords.words('english')\n",
    "  summarized_text = []\n",
    "  # Read and tokenize txt\n",
    "  sentences = read_text(txt)\n",
    "  # Get similarity matrix\n",
    "  sentence_similarity_matrix = sentences_similarity_matrix(sentences, final_stopwords)\n",
    "  # Rank sentences in the given similarity matrix\n",
    "  sentence_similarity_graph = nx.from_numpy_array(sentence_similarity_matrix)\n",
    "  scores = nx.pagerank(sentence_similarity_graph)\n",
    "  # Sort the rank of top sentences\n",
    "  ranked_sentences = sorted(((scores[i], s) for i, s in enumerate(sentences)), reverse = True)\n",
    "  # Get the top n number of sentences based on rank\n",
    "  for i in range(top_n):\n",
    "    summarized_text.append(ranked_sentences[i][1])\n",
    "  # Output the summarized version\n",
    "  summary = \" \".join(summarized_text)\n",
    "  return summary, len(sentences)"
   ]
  },
  {
   "cell_type": "code",
   "execution_count": 0,
   "metadata": {
    "application/vnd.databricks.v1+cell": {
     "cellMetadata": {
      "byteLimit": 2048000,
      "rowLimit": 10000
     },
     "inputWidgets": {},
     "nuid": "7dfa9d99-2405-4c37-bb00-f5101504fd1e",
     "showTitle": false,
     "title": ""
    }
   },
   "outputs": [
    {
     "output_type": "stream",
     "name": "stdout",
     "output_type": "stream",
     "text": [
      "[nltk_data] Downloading package stopwords to /root/nltk_data...\n[nltk_data]   Package stopwords is already up-to-date!\n[nltk_data] Downloading package punkt to /root/nltk_data...\n[nltk_data]   Package punkt is already up-to-date!\n"
     ]
    }
   ],
   "source": [
    "sums = summarize(summarize_me, 3)"
   ]
  },
  {
   "cell_type": "code",
   "execution_count": 0,
   "metadata": {
    "application/vnd.databricks.v1+cell": {
     "cellMetadata": {
      "byteLimit": 2048000,
      "rowLimit": 10000
     },
     "inputWidgets": {},
     "nuid": "9a7e1605-2ef3-45e5-9ae3-6628e9540244",
     "showTitle": false,
     "title": ""
    }
   },
   "outputs": [
    {
     "output_type": "stream",
     "name": "stdout",
     "output_type": "stream",
     "text": [
      "Out[47]: ('There are many different dates and timelines that can be used to trace the slow growth of Data Science and its current impact on the Data Management industry, some of the more significant ones are outlined below. They use the principles of Data Science, and all the related sub-fields and practices encompassed within Data Science, to gain deeper insight into the data assets under review. The term Data Science was created in the early 1960s to describe a new profession that would support the understanding and interpretation of the large amounts of data which was being amassed at the time.',\n 23)"
     ]
    }
   ],
   "source": [
    "sums"
   ]
  },
  {
   "cell_type": "markdown",
   "metadata": {
    "application/vnd.databricks.v1+cell": {
     "cellMetadata": {},
     "inputWidgets": {},
     "nuid": "acb52320-3450-4af2-a61f-09d4f9117d2a",
     "showTitle": false,
     "title": ""
    }
   },
   "source": [
    "# Article 3 - Check"
   ]
  },
  {
   "cell_type": "code",
   "execution_count": 0,
   "metadata": {
    "application/vnd.databricks.v1+cell": {
     "cellMetadata": {
      "byteLimit": 2048000,
      "rowLimit": 10000
     },
     "inputWidgets": {},
     "nuid": "ea0d8ff9-30d0-4d3e-a12b-b178e65ded0f",
     "showTitle": false,
     "title": ""
    }
   },
   "outputs": [],
   "source": [
    "#https://heartbeat.comet.ml/text-summarization-using-python-and-nltk-d1022ac347eb"
   ]
  },
  {
   "cell_type": "code",
   "execution_count": 0,
   "metadata": {
    "application/vnd.databricks.v1+cell": {
     "cellMetadata": {
      "byteLimit": 2048000,
      "rowLimit": 10000
     },
     "inputWidgets": {},
     "nuid": "61edcabd-5542-44d8-90f4-0f2619d75736",
     "showTitle": false,
     "title": ""
    }
   },
   "outputs": [
    {
     "output_type": "stream",
     "name": "stdout",
     "output_type": "stream",
     "text": [
      "[nltk_data] Downloading package punkt to /root/nltk_data...\n[nltk_data]   Unzipping tokenizers/punkt.zip.\n[nltk_data] Downloading package stopwords to /root/nltk_data...\n[nltk_data]   Unzipping corpora/stopwords.zip.\n"
     ]
    }
   ],
   "source": [
    "import re # For extra cleaning\n",
    "\n",
    "import nltk\n",
    "nltk.download('punkt')\n",
    "nltk.download('stopwords')\n",
    "from nltk.tokenize import sent_tokenize,word_tokenize\n",
    "from nltk.corpus import stopwords\n",
    "\n",
    "import heapq"
   ]
  },
  {
   "cell_type": "code",
   "execution_count": 0,
   "metadata": {
    "application/vnd.databricks.v1+cell": {
     "cellMetadata": {
      "byteLimit": 2048000,
      "rowLimit": 10000
     },
     "inputWidgets": {},
     "nuid": "734c1dff-4cfd-4edc-a04c-4801387b6c03",
     "showTitle": false,
     "title": ""
    }
   },
   "outputs": [],
   "source": [
    "def clean_text(txt):\n",
    "  text = re.sub(r\"\\[[0-9]*\\]\", \" \", txt)\n",
    "  text = text.lower()\n",
    "  text = re.sub(r'\\s+',\" \", text)\n",
    "  text = re.sub(r\",\",\" \", text)\n",
    "  return text\n",
    "cleaned_text = clean_text(summarize_me)"
   ]
  },
  {
   "cell_type": "code",
   "execution_count": 0,
   "metadata": {
    "application/vnd.databricks.v1+cell": {
     "cellMetadata": {
      "byteLimit": 2048000,
      "rowLimit": 10000
     },
     "inputWidgets": {},
     "nuid": "c4d79167-cc0c-4437-80d6-854add9c5e99",
     "showTitle": false,
     "title": ""
    }
   },
   "outputs": [],
   "source": [
    "words_frequency = {}\n",
    "word_tokens = word_tokenize(cleaned_text)\n",
    "stopwords =  set(stopwords.words(\"english\")) # Alias example\n",
    "for word in word_tokens:\n",
    "    if word not in stopwords:\n",
    "        if word not in words_frequency.keys():\n",
    "            words_frequency[word]=1\n",
    "        else:\n",
    "            words_frequency[word] +=1\n",
    "maximum_frequency = max(words_frequency.values())\n",
    "for word in words_frequency.keys():\n",
    "    words_frequency[word] = (words_frequency[word] / maximum_frequency)"
   ]
  },
  {
   "cell_type": "code",
   "execution_count": 0,
   "metadata": {
    "application/vnd.databricks.v1+cell": {
     "cellMetadata": {
      "byteLimit": 2048000,
      "rowLimit": 10000
     },
     "inputWidgets": {},
     "nuid": "68e732a0-2e16-4b1d-aa5e-8758ce4bc780",
     "showTitle": false,
     "title": ""
    }
   },
   "outputs": [],
   "source": [
    "sentences_score = {}\n",
    "sentences_tokens = sent_tokenize(cleaned_text)\n",
    "for sentence in sentences_tokens:\n",
    "    for word in word_tokenize(sentence):\n",
    "        if word in words_frequency.keys():\n",
    "            if (len(sentence.split(\" \"))) < 30:\n",
    "                if sentence not in sentences_score.keys():\n",
    "                    sentences_score[sentence] = words_frequency[word]\n",
    "                else:\n",
    "                    sentences_score[sentence] += words_frequency[word]"
   ]
  },
  {
   "cell_type": "code",
   "execution_count": 0,
   "metadata": {
    "application/vnd.databricks.v1+cell": {
     "cellMetadata": {
      "byteLimit": 2048000,
      "rowLimit": 10000
     },
     "inputWidgets": {},
     "nuid": "cdb46466-4b51-4414-91cc-d9b69add9568",
     "showTitle": false,
     "title": ""
    }
   },
   "outputs": [
    {
     "output_type": "stream",
     "name": "stdout",
     "output_type": "stream",
     "text": [
      "data science continues to evolve as a discipline using computer science and statistical methodology to make useful predictions and gain insights in a wide range of fields. data science started with statistics and has evolved to include concepts/practices such as artificial intelligence  machine learning  and the internet of things  to name a few. while data science is used in areas such as astronomy and medicine  it is also used in business to help make smarter decisions. statistics  and the use of statistical models  are deeply rooted within the field of data science. at the time  there was no way of predicting the truly massive amounts of data over the next fifty years.\n"
     ]
    }
   ],
   "source": [
    "def get_key(desired_value): \n",
    "    for key, value in sentences_score.items(): \n",
    "        if desired_value == value: \n",
    "            return key \n",
    "key = get_key(max(sentences_score.values()))\n",
    "N = 5\n",
    "summary = heapq.nlargest(N, sentences_score, key = sentences_score.get)\n",
    "print(\" \".join(summary))"
   ]
  },
  {
   "cell_type": "code",
   "execution_count": 0,
   "metadata": {
    "application/vnd.databricks.v1+cell": {
     "cellMetadata": {},
     "inputWidgets": {},
     "nuid": "543c541b-f552-4970-88f5-17980a9ddc52",
     "showTitle": false,
     "title": ""
    }
   },
   "outputs": [],
   "source": []
  }
 ],
 "metadata": {
  "application/vnd.databricks.v1+notebook": {
   "dashboards": [],
   "language": "python",
   "notebookMetadata": {
    "pythonIndentUnit": 2
   },
   "notebookName": "summarizes",
   "notebookOrigID": 524014979907744,
   "widgets": {}
  }
 },
 "nbformat": 4,
 "nbformat_minor": 0
}
